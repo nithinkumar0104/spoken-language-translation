{
  "nbformat": 4,
  "nbformat_minor": 0,
  "metadata": {
    "colab": {
      "provenance": [],
      "gpuType": "T4"
    },
    "kernelspec": {
      "name": "python3",
      "display_name": "Python 3"
    },
    "language_info": {
      "name": "python"
    },
    "accelerator": "GPU",
    "widgets": {
      "application/vnd.jupyter.widget-state+json": {
        "aded945ce9ef492b82ee7f2581dfb157": {
          "model_module": "@jupyter-widgets/controls",
          "model_name": "HBoxModel",
          "model_module_version": "1.5.0",
          "state": {
            "_dom_classes": [],
            "_model_module": "@jupyter-widgets/controls",
            "_model_module_version": "1.5.0",
            "_model_name": "HBoxModel",
            "_view_count": null,
            "_view_module": "@jupyter-widgets/controls",
            "_view_module_version": "1.5.0",
            "_view_name": "HBoxView",
            "box_style": "",
            "children": [
              "IPY_MODEL_3dafbbb31fb94f3697bdcb42515bebd3",
              "IPY_MODEL_22d5ecbd377d4b128565a6b268d65632",
              "IPY_MODEL_65d889c2f57f4fbab3a1f5e014247b30"
            ],
            "layout": "IPY_MODEL_6857001861b747419621c9a3ec2fdae2"
          }
        },
        "3dafbbb31fb94f3697bdcb42515bebd3": {
          "model_module": "@jupyter-widgets/controls",
          "model_name": "HTMLModel",
          "model_module_version": "1.5.0",
          "state": {
            "_dom_classes": [],
            "_model_module": "@jupyter-widgets/controls",
            "_model_module_version": "1.5.0",
            "_model_name": "HTMLModel",
            "_view_count": null,
            "_view_module": "@jupyter-widgets/controls",
            "_view_module_version": "1.5.0",
            "_view_name": "HTMLView",
            "description": "",
            "description_tooltip": null,
            "layout": "IPY_MODEL_47bafeef017b491188082142c5a0b21a",
            "placeholder": "​",
            "style": "IPY_MODEL_1827b99dc3314149bf43be1b53a3c8b0",
            "value": "tokenizer_config.json: 100%"
          }
        },
        "22d5ecbd377d4b128565a6b268d65632": {
          "model_module": "@jupyter-widgets/controls",
          "model_name": "FloatProgressModel",
          "model_module_version": "1.5.0",
          "state": {
            "_dom_classes": [],
            "_model_module": "@jupyter-widgets/controls",
            "_model_module_version": "1.5.0",
            "_model_name": "FloatProgressModel",
            "_view_count": null,
            "_view_module": "@jupyter-widgets/controls",
            "_view_module_version": "1.5.0",
            "_view_name": "ProgressView",
            "bar_style": "success",
            "description": "",
            "description_tooltip": null,
            "layout": "IPY_MODEL_4bc7f5dd84974fd7a90526cd20733dc3",
            "max": 44,
            "min": 0,
            "orientation": "horizontal",
            "style": "IPY_MODEL_ef996c9dc0d243669916e2cefe9b998a",
            "value": 44
          }
        },
        "65d889c2f57f4fbab3a1f5e014247b30": {
          "model_module": "@jupyter-widgets/controls",
          "model_name": "HTMLModel",
          "model_module_version": "1.5.0",
          "state": {
            "_dom_classes": [],
            "_model_module": "@jupyter-widgets/controls",
            "_model_module_version": "1.5.0",
            "_model_name": "HTMLModel",
            "_view_count": null,
            "_view_module": "@jupyter-widgets/controls",
            "_view_module_version": "1.5.0",
            "_view_name": "HTMLView",
            "description": "",
            "description_tooltip": null,
            "layout": "IPY_MODEL_d42fe1b7ca9b450f8a6b5f3827f33358",
            "placeholder": "​",
            "style": "IPY_MODEL_ee848bbaa9a04a458060b6aa3fa379f3",
            "value": " 44.0/44.0 [00:00&lt;00:00, 2.51kB/s]"
          }
        },
        "6857001861b747419621c9a3ec2fdae2": {
          "model_module": "@jupyter-widgets/base",
          "model_name": "LayoutModel",
          "model_module_version": "1.2.0",
          "state": {
            "_model_module": "@jupyter-widgets/base",
            "_model_module_version": "1.2.0",
            "_model_name": "LayoutModel",
            "_view_count": null,
            "_view_module": "@jupyter-widgets/base",
            "_view_module_version": "1.2.0",
            "_view_name": "LayoutView",
            "align_content": null,
            "align_items": null,
            "align_self": null,
            "border": null,
            "bottom": null,
            "display": null,
            "flex": null,
            "flex_flow": null,
            "grid_area": null,
            "grid_auto_columns": null,
            "grid_auto_flow": null,
            "grid_auto_rows": null,
            "grid_column": null,
            "grid_gap": null,
            "grid_row": null,
            "grid_template_areas": null,
            "grid_template_columns": null,
            "grid_template_rows": null,
            "height": null,
            "justify_content": null,
            "justify_items": null,
            "left": null,
            "margin": null,
            "max_height": null,
            "max_width": null,
            "min_height": null,
            "min_width": null,
            "object_fit": null,
            "object_position": null,
            "order": null,
            "overflow": null,
            "overflow_x": null,
            "overflow_y": null,
            "padding": null,
            "right": null,
            "top": null,
            "visibility": null,
            "width": null
          }
        },
        "47bafeef017b491188082142c5a0b21a": {
          "model_module": "@jupyter-widgets/base",
          "model_name": "LayoutModel",
          "model_module_version": "1.2.0",
          "state": {
            "_model_module": "@jupyter-widgets/base",
            "_model_module_version": "1.2.0",
            "_model_name": "LayoutModel",
            "_view_count": null,
            "_view_module": "@jupyter-widgets/base",
            "_view_module_version": "1.2.0",
            "_view_name": "LayoutView",
            "align_content": null,
            "align_items": null,
            "align_self": null,
            "border": null,
            "bottom": null,
            "display": null,
            "flex": null,
            "flex_flow": null,
            "grid_area": null,
            "grid_auto_columns": null,
            "grid_auto_flow": null,
            "grid_auto_rows": null,
            "grid_column": null,
            "grid_gap": null,
            "grid_row": null,
            "grid_template_areas": null,
            "grid_template_columns": null,
            "grid_template_rows": null,
            "height": null,
            "justify_content": null,
            "justify_items": null,
            "left": null,
            "margin": null,
            "max_height": null,
            "max_width": null,
            "min_height": null,
            "min_width": null,
            "object_fit": null,
            "object_position": null,
            "order": null,
            "overflow": null,
            "overflow_x": null,
            "overflow_y": null,
            "padding": null,
            "right": null,
            "top": null,
            "visibility": null,
            "width": null
          }
        },
        "1827b99dc3314149bf43be1b53a3c8b0": {
          "model_module": "@jupyter-widgets/controls",
          "model_name": "DescriptionStyleModel",
          "model_module_version": "1.5.0",
          "state": {
            "_model_module": "@jupyter-widgets/controls",
            "_model_module_version": "1.5.0",
            "_model_name": "DescriptionStyleModel",
            "_view_count": null,
            "_view_module": "@jupyter-widgets/base",
            "_view_module_version": "1.2.0",
            "_view_name": "StyleView",
            "description_width": ""
          }
        },
        "4bc7f5dd84974fd7a90526cd20733dc3": {
          "model_module": "@jupyter-widgets/base",
          "model_name": "LayoutModel",
          "model_module_version": "1.2.0",
          "state": {
            "_model_module": "@jupyter-widgets/base",
            "_model_module_version": "1.2.0",
            "_model_name": "LayoutModel",
            "_view_count": null,
            "_view_module": "@jupyter-widgets/base",
            "_view_module_version": "1.2.0",
            "_view_name": "LayoutView",
            "align_content": null,
            "align_items": null,
            "align_self": null,
            "border": null,
            "bottom": null,
            "display": null,
            "flex": null,
            "flex_flow": null,
            "grid_area": null,
            "grid_auto_columns": null,
            "grid_auto_flow": null,
            "grid_auto_rows": null,
            "grid_column": null,
            "grid_gap": null,
            "grid_row": null,
            "grid_template_areas": null,
            "grid_template_columns": null,
            "grid_template_rows": null,
            "height": null,
            "justify_content": null,
            "justify_items": null,
            "left": null,
            "margin": null,
            "max_height": null,
            "max_width": null,
            "min_height": null,
            "min_width": null,
            "object_fit": null,
            "object_position": null,
            "order": null,
            "overflow": null,
            "overflow_x": null,
            "overflow_y": null,
            "padding": null,
            "right": null,
            "top": null,
            "visibility": null,
            "width": null
          }
        },
        "ef996c9dc0d243669916e2cefe9b998a": {
          "model_module": "@jupyter-widgets/controls",
          "model_name": "ProgressStyleModel",
          "model_module_version": "1.5.0",
          "state": {
            "_model_module": "@jupyter-widgets/controls",
            "_model_module_version": "1.5.0",
            "_model_name": "ProgressStyleModel",
            "_view_count": null,
            "_view_module": "@jupyter-widgets/base",
            "_view_module_version": "1.2.0",
            "_view_name": "StyleView",
            "bar_color": null,
            "description_width": ""
          }
        },
        "d42fe1b7ca9b450f8a6b5f3827f33358": {
          "model_module": "@jupyter-widgets/base",
          "model_name": "LayoutModel",
          "model_module_version": "1.2.0",
          "state": {
            "_model_module": "@jupyter-widgets/base",
            "_model_module_version": "1.2.0",
            "_model_name": "LayoutModel",
            "_view_count": null,
            "_view_module": "@jupyter-widgets/base",
            "_view_module_version": "1.2.0",
            "_view_name": "LayoutView",
            "align_content": null,
            "align_items": null,
            "align_self": null,
            "border": null,
            "bottom": null,
            "display": null,
            "flex": null,
            "flex_flow": null,
            "grid_area": null,
            "grid_auto_columns": null,
            "grid_auto_flow": null,
            "grid_auto_rows": null,
            "grid_column": null,
            "grid_gap": null,
            "grid_row": null,
            "grid_template_areas": null,
            "grid_template_columns": null,
            "grid_template_rows": null,
            "height": null,
            "justify_content": null,
            "justify_items": null,
            "left": null,
            "margin": null,
            "max_height": null,
            "max_width": null,
            "min_height": null,
            "min_width": null,
            "object_fit": null,
            "object_position": null,
            "order": null,
            "overflow": null,
            "overflow_x": null,
            "overflow_y": null,
            "padding": null,
            "right": null,
            "top": null,
            "visibility": null,
            "width": null
          }
        },
        "ee848bbaa9a04a458060b6aa3fa379f3": {
          "model_module": "@jupyter-widgets/controls",
          "model_name": "DescriptionStyleModel",
          "model_module_version": "1.5.0",
          "state": {
            "_model_module": "@jupyter-widgets/controls",
            "_model_module_version": "1.5.0",
            "_model_name": "DescriptionStyleModel",
            "_view_count": null,
            "_view_module": "@jupyter-widgets/base",
            "_view_module_version": "1.2.0",
            "_view_name": "StyleView",
            "description_width": ""
          }
        },
        "a1b77b0433654d5da894bbdc60570de4": {
          "model_module": "@jupyter-widgets/controls",
          "model_name": "HBoxModel",
          "model_module_version": "1.5.0",
          "state": {
            "_dom_classes": [],
            "_model_module": "@jupyter-widgets/controls",
            "_model_module_version": "1.5.0",
            "_model_name": "HBoxModel",
            "_view_count": null,
            "_view_module": "@jupyter-widgets/controls",
            "_view_module_version": "1.5.0",
            "_view_name": "HBoxView",
            "box_style": "",
            "children": [
              "IPY_MODEL_f7f6703c105e43ab8a8b84c24040e80d",
              "IPY_MODEL_3ee90fddc49e4c5c8b72cccf0ace9cab",
              "IPY_MODEL_29b480a81b824e479ffbc0bf5e3010cf"
            ],
            "layout": "IPY_MODEL_5adc2d4b438340e28687f2a30693d6f4"
          }
        },
        "f7f6703c105e43ab8a8b84c24040e80d": {
          "model_module": "@jupyter-widgets/controls",
          "model_name": "HTMLModel",
          "model_module_version": "1.5.0",
          "state": {
            "_dom_classes": [],
            "_model_module": "@jupyter-widgets/controls",
            "_model_module_version": "1.5.0",
            "_model_name": "HTMLModel",
            "_view_count": null,
            "_view_module": "@jupyter-widgets/controls",
            "_view_module_version": "1.5.0",
            "_view_name": "HTMLView",
            "description": "",
            "description_tooltip": null,
            "layout": "IPY_MODEL_e909b9425367460ca0fc92157dcfc95a",
            "placeholder": "​",
            "style": "IPY_MODEL_83e7d606a4984c24ab2884afe1485e70",
            "value": "config.json: 100%"
          }
        },
        "3ee90fddc49e4c5c8b72cccf0ace9cab": {
          "model_module": "@jupyter-widgets/controls",
          "model_name": "FloatProgressModel",
          "model_module_version": "1.5.0",
          "state": {
            "_dom_classes": [],
            "_model_module": "@jupyter-widgets/controls",
            "_model_module_version": "1.5.0",
            "_model_name": "FloatProgressModel",
            "_view_count": null,
            "_view_module": "@jupyter-widgets/controls",
            "_view_module_version": "1.5.0",
            "_view_name": "ProgressView",
            "bar_style": "success",
            "description": "",
            "description_tooltip": null,
            "layout": "IPY_MODEL_517ba800664c4070a45e80b6f0ec18bb",
            "max": 1394,
            "min": 0,
            "orientation": "horizontal",
            "style": "IPY_MODEL_28b6724ee0bb48c1bb09e748bb18cdf2",
            "value": 1394
          }
        },
        "29b480a81b824e479ffbc0bf5e3010cf": {
          "model_module": "@jupyter-widgets/controls",
          "model_name": "HTMLModel",
          "model_module_version": "1.5.0",
          "state": {
            "_dom_classes": [],
            "_model_module": "@jupyter-widgets/controls",
            "_model_module_version": "1.5.0",
            "_model_name": "HTMLModel",
            "_view_count": null,
            "_view_module": "@jupyter-widgets/controls",
            "_view_module_version": "1.5.0",
            "_view_name": "HTMLView",
            "description": "",
            "description_tooltip": null,
            "layout": "IPY_MODEL_b41fb43e54bb48fa8b225199ee56f9f0",
            "placeholder": "​",
            "style": "IPY_MODEL_18dd37cb3f684248bfdc7a89704b3164",
            "value": " 1.39k/1.39k [00:00&lt;00:00, 94.3kB/s]"
          }
        },
        "5adc2d4b438340e28687f2a30693d6f4": {
          "model_module": "@jupyter-widgets/base",
          "model_name": "LayoutModel",
          "model_module_version": "1.2.0",
          "state": {
            "_model_module": "@jupyter-widgets/base",
            "_model_module_version": "1.2.0",
            "_model_name": "LayoutModel",
            "_view_count": null,
            "_view_module": "@jupyter-widgets/base",
            "_view_module_version": "1.2.0",
            "_view_name": "LayoutView",
            "align_content": null,
            "align_items": null,
            "align_self": null,
            "border": null,
            "bottom": null,
            "display": null,
            "flex": null,
            "flex_flow": null,
            "grid_area": null,
            "grid_auto_columns": null,
            "grid_auto_flow": null,
            "grid_auto_rows": null,
            "grid_column": null,
            "grid_gap": null,
            "grid_row": null,
            "grid_template_areas": null,
            "grid_template_columns": null,
            "grid_template_rows": null,
            "height": null,
            "justify_content": null,
            "justify_items": null,
            "left": null,
            "margin": null,
            "max_height": null,
            "max_width": null,
            "min_height": null,
            "min_width": null,
            "object_fit": null,
            "object_position": null,
            "order": null,
            "overflow": null,
            "overflow_x": null,
            "overflow_y": null,
            "padding": null,
            "right": null,
            "top": null,
            "visibility": null,
            "width": null
          }
        },
        "e909b9425367460ca0fc92157dcfc95a": {
          "model_module": "@jupyter-widgets/base",
          "model_name": "LayoutModel",
          "model_module_version": "1.2.0",
          "state": {
            "_model_module": "@jupyter-widgets/base",
            "_model_module_version": "1.2.0",
            "_model_name": "LayoutModel",
            "_view_count": null,
            "_view_module": "@jupyter-widgets/base",
            "_view_module_version": "1.2.0",
            "_view_name": "LayoutView",
            "align_content": null,
            "align_items": null,
            "align_self": null,
            "border": null,
            "bottom": null,
            "display": null,
            "flex": null,
            "flex_flow": null,
            "grid_area": null,
            "grid_auto_columns": null,
            "grid_auto_flow": null,
            "grid_auto_rows": null,
            "grid_column": null,
            "grid_gap": null,
            "grid_row": null,
            "grid_template_areas": null,
            "grid_template_columns": null,
            "grid_template_rows": null,
            "height": null,
            "justify_content": null,
            "justify_items": null,
            "left": null,
            "margin": null,
            "max_height": null,
            "max_width": null,
            "min_height": null,
            "min_width": null,
            "object_fit": null,
            "object_position": null,
            "order": null,
            "overflow": null,
            "overflow_x": null,
            "overflow_y": null,
            "padding": null,
            "right": null,
            "top": null,
            "visibility": null,
            "width": null
          }
        },
        "83e7d606a4984c24ab2884afe1485e70": {
          "model_module": "@jupyter-widgets/controls",
          "model_name": "DescriptionStyleModel",
          "model_module_version": "1.5.0",
          "state": {
            "_model_module": "@jupyter-widgets/controls",
            "_model_module_version": "1.5.0",
            "_model_name": "DescriptionStyleModel",
            "_view_count": null,
            "_view_module": "@jupyter-widgets/base",
            "_view_module_version": "1.2.0",
            "_view_name": "StyleView",
            "description_width": ""
          }
        },
        "517ba800664c4070a45e80b6f0ec18bb": {
          "model_module": "@jupyter-widgets/base",
          "model_name": "LayoutModel",
          "model_module_version": "1.2.0",
          "state": {
            "_model_module": "@jupyter-widgets/base",
            "_model_module_version": "1.2.0",
            "_model_name": "LayoutModel",
            "_view_count": null,
            "_view_module": "@jupyter-widgets/base",
            "_view_module_version": "1.2.0",
            "_view_name": "LayoutView",
            "align_content": null,
            "align_items": null,
            "align_self": null,
            "border": null,
            "bottom": null,
            "display": null,
            "flex": null,
            "flex_flow": null,
            "grid_area": null,
            "grid_auto_columns": null,
            "grid_auto_flow": null,
            "grid_auto_rows": null,
            "grid_column": null,
            "grid_gap": null,
            "grid_row": null,
            "grid_template_areas": null,
            "grid_template_columns": null,
            "grid_template_rows": null,
            "height": null,
            "justify_content": null,
            "justify_items": null,
            "left": null,
            "margin": null,
            "max_height": null,
            "max_width": null,
            "min_height": null,
            "min_width": null,
            "object_fit": null,
            "object_position": null,
            "order": null,
            "overflow": null,
            "overflow_x": null,
            "overflow_y": null,
            "padding": null,
            "right": null,
            "top": null,
            "visibility": null,
            "width": null
          }
        },
        "28b6724ee0bb48c1bb09e748bb18cdf2": {
          "model_module": "@jupyter-widgets/controls",
          "model_name": "ProgressStyleModel",
          "model_module_version": "1.5.0",
          "state": {
            "_model_module": "@jupyter-widgets/controls",
            "_model_module_version": "1.5.0",
            "_model_name": "ProgressStyleModel",
            "_view_count": null,
            "_view_module": "@jupyter-widgets/base",
            "_view_module_version": "1.2.0",
            "_view_name": "StyleView",
            "bar_color": null,
            "description_width": ""
          }
        },
        "b41fb43e54bb48fa8b225199ee56f9f0": {
          "model_module": "@jupyter-widgets/base",
          "model_name": "LayoutModel",
          "model_module_version": "1.2.0",
          "state": {
            "_model_module": "@jupyter-widgets/base",
            "_model_module_version": "1.2.0",
            "_model_name": "LayoutModel",
            "_view_count": null,
            "_view_module": "@jupyter-widgets/base",
            "_view_module_version": "1.2.0",
            "_view_name": "LayoutView",
            "align_content": null,
            "align_items": null,
            "align_self": null,
            "border": null,
            "bottom": null,
            "display": null,
            "flex": null,
            "flex_flow": null,
            "grid_area": null,
            "grid_auto_columns": null,
            "grid_auto_flow": null,
            "grid_auto_rows": null,
            "grid_column": null,
            "grid_gap": null,
            "grid_row": null,
            "grid_template_areas": null,
            "grid_template_columns": null,
            "grid_template_rows": null,
            "height": null,
            "justify_content": null,
            "justify_items": null,
            "left": null,
            "margin": null,
            "max_height": null,
            "max_width": null,
            "min_height": null,
            "min_width": null,
            "object_fit": null,
            "object_position": null,
            "order": null,
            "overflow": null,
            "overflow_x": null,
            "overflow_y": null,
            "padding": null,
            "right": null,
            "top": null,
            "visibility": null,
            "width": null
          }
        },
        "18dd37cb3f684248bfdc7a89704b3164": {
          "model_module": "@jupyter-widgets/controls",
          "model_name": "DescriptionStyleModel",
          "model_module_version": "1.5.0",
          "state": {
            "_model_module": "@jupyter-widgets/controls",
            "_model_module_version": "1.5.0",
            "_model_name": "DescriptionStyleModel",
            "_view_count": null,
            "_view_module": "@jupyter-widgets/base",
            "_view_module_version": "1.2.0",
            "_view_name": "StyleView",
            "description_width": ""
          }
        },
        "67a97b422f114ab79fb801d253ecd4e9": {
          "model_module": "@jupyter-widgets/controls",
          "model_name": "HBoxModel",
          "model_module_version": "1.5.0",
          "state": {
            "_dom_classes": [],
            "_model_module": "@jupyter-widgets/controls",
            "_model_module_version": "1.5.0",
            "_model_name": "HBoxModel",
            "_view_count": null,
            "_view_module": "@jupyter-widgets/controls",
            "_view_module_version": "1.5.0",
            "_view_name": "HBoxView",
            "box_style": "",
            "children": [
              "IPY_MODEL_223b250bc57a4a41a5019baabaae7927",
              "IPY_MODEL_062a3b77aa3f43569ae0f72857c5ecbc",
              "IPY_MODEL_7565b2079c594483bf396bdab8f599f5"
            ],
            "layout": "IPY_MODEL_cb8d71270b3b4902b70a33f4acb52163"
          }
        },
        "223b250bc57a4a41a5019baabaae7927": {
          "model_module": "@jupyter-widgets/controls",
          "model_name": "HTMLModel",
          "model_module_version": "1.5.0",
          "state": {
            "_dom_classes": [],
            "_model_module": "@jupyter-widgets/controls",
            "_model_module_version": "1.5.0",
            "_model_name": "HTMLModel",
            "_view_count": null,
            "_view_module": "@jupyter-widgets/controls",
            "_view_module_version": "1.5.0",
            "_view_name": "HTMLView",
            "description": "",
            "description_tooltip": null,
            "layout": "IPY_MODEL_3b67a934b2c94904899364c3b81057fd",
            "placeholder": "​",
            "style": "IPY_MODEL_db49c6847db0412bacdd089f2c75c024",
            "value": "source.spm: 100%"
          }
        },
        "062a3b77aa3f43569ae0f72857c5ecbc": {
          "model_module": "@jupyter-widgets/controls",
          "model_name": "FloatProgressModel",
          "model_module_version": "1.5.0",
          "state": {
            "_dom_classes": [],
            "_model_module": "@jupyter-widgets/controls",
            "_model_module_version": "1.5.0",
            "_model_name": "FloatProgressModel",
            "_view_count": null,
            "_view_module": "@jupyter-widgets/controls",
            "_view_module_version": "1.5.0",
            "_view_name": "ProgressView",
            "bar_style": "success",
            "description": "",
            "description_tooltip": null,
            "layout": "IPY_MODEL_c5fbaa43f5414f549fba6d7afc8c6cb1",
            "max": 812240,
            "min": 0,
            "orientation": "horizontal",
            "style": "IPY_MODEL_3870cd5c91e14b568879a998f112c63a",
            "value": 812240
          }
        },
        "7565b2079c594483bf396bdab8f599f5": {
          "model_module": "@jupyter-widgets/controls",
          "model_name": "HTMLModel",
          "model_module_version": "1.5.0",
          "state": {
            "_dom_classes": [],
            "_model_module": "@jupyter-widgets/controls",
            "_model_module_version": "1.5.0",
            "_model_name": "HTMLModel",
            "_view_count": null,
            "_view_module": "@jupyter-widgets/controls",
            "_view_module_version": "1.5.0",
            "_view_name": "HTMLView",
            "description": "",
            "description_tooltip": null,
            "layout": "IPY_MODEL_a999ec5ec08b478ca786717da64ce6a1",
            "placeholder": "​",
            "style": "IPY_MODEL_082261716969475d87abe8adfd5f6f1d",
            "value": " 812k/812k [00:00&lt;00:00, 10.3MB/s]"
          }
        },
        "cb8d71270b3b4902b70a33f4acb52163": {
          "model_module": "@jupyter-widgets/base",
          "model_name": "LayoutModel",
          "model_module_version": "1.2.0",
          "state": {
            "_model_module": "@jupyter-widgets/base",
            "_model_module_version": "1.2.0",
            "_model_name": "LayoutModel",
            "_view_count": null,
            "_view_module": "@jupyter-widgets/base",
            "_view_module_version": "1.2.0",
            "_view_name": "LayoutView",
            "align_content": null,
            "align_items": null,
            "align_self": null,
            "border": null,
            "bottom": null,
            "display": null,
            "flex": null,
            "flex_flow": null,
            "grid_area": null,
            "grid_auto_columns": null,
            "grid_auto_flow": null,
            "grid_auto_rows": null,
            "grid_column": null,
            "grid_gap": null,
            "grid_row": null,
            "grid_template_areas": null,
            "grid_template_columns": null,
            "grid_template_rows": null,
            "height": null,
            "justify_content": null,
            "justify_items": null,
            "left": null,
            "margin": null,
            "max_height": null,
            "max_width": null,
            "min_height": null,
            "min_width": null,
            "object_fit": null,
            "object_position": null,
            "order": null,
            "overflow": null,
            "overflow_x": null,
            "overflow_y": null,
            "padding": null,
            "right": null,
            "top": null,
            "visibility": null,
            "width": null
          }
        },
        "3b67a934b2c94904899364c3b81057fd": {
          "model_module": "@jupyter-widgets/base",
          "model_name": "LayoutModel",
          "model_module_version": "1.2.0",
          "state": {
            "_model_module": "@jupyter-widgets/base",
            "_model_module_version": "1.2.0",
            "_model_name": "LayoutModel",
            "_view_count": null,
            "_view_module": "@jupyter-widgets/base",
            "_view_module_version": "1.2.0",
            "_view_name": "LayoutView",
            "align_content": null,
            "align_items": null,
            "align_self": null,
            "border": null,
            "bottom": null,
            "display": null,
            "flex": null,
            "flex_flow": null,
            "grid_area": null,
            "grid_auto_columns": null,
            "grid_auto_flow": null,
            "grid_auto_rows": null,
            "grid_column": null,
            "grid_gap": null,
            "grid_row": null,
            "grid_template_areas": null,
            "grid_template_columns": null,
            "grid_template_rows": null,
            "height": null,
            "justify_content": null,
            "justify_items": null,
            "left": null,
            "margin": null,
            "max_height": null,
            "max_width": null,
            "min_height": null,
            "min_width": null,
            "object_fit": null,
            "object_position": null,
            "order": null,
            "overflow": null,
            "overflow_x": null,
            "overflow_y": null,
            "padding": null,
            "right": null,
            "top": null,
            "visibility": null,
            "width": null
          }
        },
        "db49c6847db0412bacdd089f2c75c024": {
          "model_module": "@jupyter-widgets/controls",
          "model_name": "DescriptionStyleModel",
          "model_module_version": "1.5.0",
          "state": {
            "_model_module": "@jupyter-widgets/controls",
            "_model_module_version": "1.5.0",
            "_model_name": "DescriptionStyleModel",
            "_view_count": null,
            "_view_module": "@jupyter-widgets/base",
            "_view_module_version": "1.2.0",
            "_view_name": "StyleView",
            "description_width": ""
          }
        },
        "c5fbaa43f5414f549fba6d7afc8c6cb1": {
          "model_module": "@jupyter-widgets/base",
          "model_name": "LayoutModel",
          "model_module_version": "1.2.0",
          "state": {
            "_model_module": "@jupyter-widgets/base",
            "_model_module_version": "1.2.0",
            "_model_name": "LayoutModel",
            "_view_count": null,
            "_view_module": "@jupyter-widgets/base",
            "_view_module_version": "1.2.0",
            "_view_name": "LayoutView",
            "align_content": null,
            "align_items": null,
            "align_self": null,
            "border": null,
            "bottom": null,
            "display": null,
            "flex": null,
            "flex_flow": null,
            "grid_area": null,
            "grid_auto_columns": null,
            "grid_auto_flow": null,
            "grid_auto_rows": null,
            "grid_column": null,
            "grid_gap": null,
            "grid_row": null,
            "grid_template_areas": null,
            "grid_template_columns": null,
            "grid_template_rows": null,
            "height": null,
            "justify_content": null,
            "justify_items": null,
            "left": null,
            "margin": null,
            "max_height": null,
            "max_width": null,
            "min_height": null,
            "min_width": null,
            "object_fit": null,
            "object_position": null,
            "order": null,
            "overflow": null,
            "overflow_x": null,
            "overflow_y": null,
            "padding": null,
            "right": null,
            "top": null,
            "visibility": null,
            "width": null
          }
        },
        "3870cd5c91e14b568879a998f112c63a": {
          "model_module": "@jupyter-widgets/controls",
          "model_name": "ProgressStyleModel",
          "model_module_version": "1.5.0",
          "state": {
            "_model_module": "@jupyter-widgets/controls",
            "_model_module_version": "1.5.0",
            "_model_name": "ProgressStyleModel",
            "_view_count": null,
            "_view_module": "@jupyter-widgets/base",
            "_view_module_version": "1.2.0",
            "_view_name": "StyleView",
            "bar_color": null,
            "description_width": ""
          }
        },
        "a999ec5ec08b478ca786717da64ce6a1": {
          "model_module": "@jupyter-widgets/base",
          "model_name": "LayoutModel",
          "model_module_version": "1.2.0",
          "state": {
            "_model_module": "@jupyter-widgets/base",
            "_model_module_version": "1.2.0",
            "_model_name": "LayoutModel",
            "_view_count": null,
            "_view_module": "@jupyter-widgets/base",
            "_view_module_version": "1.2.0",
            "_view_name": "LayoutView",
            "align_content": null,
            "align_items": null,
            "align_self": null,
            "border": null,
            "bottom": null,
            "display": null,
            "flex": null,
            "flex_flow": null,
            "grid_area": null,
            "grid_auto_columns": null,
            "grid_auto_flow": null,
            "grid_auto_rows": null,
            "grid_column": null,
            "grid_gap": null,
            "grid_row": null,
            "grid_template_areas": null,
            "grid_template_columns": null,
            "grid_template_rows": null,
            "height": null,
            "justify_content": null,
            "justify_items": null,
            "left": null,
            "margin": null,
            "max_height": null,
            "max_width": null,
            "min_height": null,
            "min_width": null,
            "object_fit": null,
            "object_position": null,
            "order": null,
            "overflow": null,
            "overflow_x": null,
            "overflow_y": null,
            "padding": null,
            "right": null,
            "top": null,
            "visibility": null,
            "width": null
          }
        },
        "082261716969475d87abe8adfd5f6f1d": {
          "model_module": "@jupyter-widgets/controls",
          "model_name": "DescriptionStyleModel",
          "model_module_version": "1.5.0",
          "state": {
            "_model_module": "@jupyter-widgets/controls",
            "_model_module_version": "1.5.0",
            "_model_name": "DescriptionStyleModel",
            "_view_count": null,
            "_view_module": "@jupyter-widgets/base",
            "_view_module_version": "1.2.0",
            "_view_name": "StyleView",
            "description_width": ""
          }
        },
        "9b21b241026a4ea2afd3c7891d7f05d2": {
          "model_module": "@jupyter-widgets/controls",
          "model_name": "HBoxModel",
          "model_module_version": "1.5.0",
          "state": {
            "_dom_classes": [],
            "_model_module": "@jupyter-widgets/controls",
            "_model_module_version": "1.5.0",
            "_model_name": "HBoxModel",
            "_view_count": null,
            "_view_module": "@jupyter-widgets/controls",
            "_view_module_version": "1.5.0",
            "_view_name": "HBoxView",
            "box_style": "",
            "children": [
              "IPY_MODEL_a9fb62ed66e544febd81883999563c63",
              "IPY_MODEL_7eba1dab4a5540e59cff4443a2b6fc68",
              "IPY_MODEL_4be1defae23244448c2906173c9f419c"
            ],
            "layout": "IPY_MODEL_8d54faeb8b3244b6b73648fc6a926886"
          }
        },
        "a9fb62ed66e544febd81883999563c63": {
          "model_module": "@jupyter-widgets/controls",
          "model_name": "HTMLModel",
          "model_module_version": "1.5.0",
          "state": {
            "_dom_classes": [],
            "_model_module": "@jupyter-widgets/controls",
            "_model_module_version": "1.5.0",
            "_model_name": "HTMLModel",
            "_view_count": null,
            "_view_module": "@jupyter-widgets/controls",
            "_view_module_version": "1.5.0",
            "_view_name": "HTMLView",
            "description": "",
            "description_tooltip": null,
            "layout": "IPY_MODEL_cba5d18ed718431e822219b6328e7db6",
            "placeholder": "​",
            "style": "IPY_MODEL_8110067da5cf4842a3b6c16c21b83727",
            "value": "target.spm: 100%"
          }
        },
        "7eba1dab4a5540e59cff4443a2b6fc68": {
          "model_module": "@jupyter-widgets/controls",
          "model_name": "FloatProgressModel",
          "model_module_version": "1.5.0",
          "state": {
            "_dom_classes": [],
            "_model_module": "@jupyter-widgets/controls",
            "_model_module_version": "1.5.0",
            "_model_name": "FloatProgressModel",
            "_view_count": null,
            "_view_module": "@jupyter-widgets/controls",
            "_view_module_version": "1.5.0",
            "_view_name": "ProgressView",
            "bar_style": "success",
            "description": "",
            "description_tooltip": null,
            "layout": "IPY_MODEL_d6ac9658901a4139893dfd3ce3ef1c39",
            "max": 1067935,
            "min": 0,
            "orientation": "horizontal",
            "style": "IPY_MODEL_15158e2e8dca4cf3983e2ba97f7efdcd",
            "value": 1067935
          }
        },
        "4be1defae23244448c2906173c9f419c": {
          "model_module": "@jupyter-widgets/controls",
          "model_name": "HTMLModel",
          "model_module_version": "1.5.0",
          "state": {
            "_dom_classes": [],
            "_model_module": "@jupyter-widgets/controls",
            "_model_module_version": "1.5.0",
            "_model_name": "HTMLModel",
            "_view_count": null,
            "_view_module": "@jupyter-widgets/controls",
            "_view_module_version": "1.5.0",
            "_view_name": "HTMLView",
            "description": "",
            "description_tooltip": null,
            "layout": "IPY_MODEL_a61743d19fa340028621fecaf7d8b8fa",
            "placeholder": "​",
            "style": "IPY_MODEL_f710d771b30942399129f47676af7975",
            "value": " 1.07M/1.07M [00:00&lt;00:00, 37.6MB/s]"
          }
        },
        "8d54faeb8b3244b6b73648fc6a926886": {
          "model_module": "@jupyter-widgets/base",
          "model_name": "LayoutModel",
          "model_module_version": "1.2.0",
          "state": {
            "_model_module": "@jupyter-widgets/base",
            "_model_module_version": "1.2.0",
            "_model_name": "LayoutModel",
            "_view_count": null,
            "_view_module": "@jupyter-widgets/base",
            "_view_module_version": "1.2.0",
            "_view_name": "LayoutView",
            "align_content": null,
            "align_items": null,
            "align_self": null,
            "border": null,
            "bottom": null,
            "display": null,
            "flex": null,
            "flex_flow": null,
            "grid_area": null,
            "grid_auto_columns": null,
            "grid_auto_flow": null,
            "grid_auto_rows": null,
            "grid_column": null,
            "grid_gap": null,
            "grid_row": null,
            "grid_template_areas": null,
            "grid_template_columns": null,
            "grid_template_rows": null,
            "height": null,
            "justify_content": null,
            "justify_items": null,
            "left": null,
            "margin": null,
            "max_height": null,
            "max_width": null,
            "min_height": null,
            "min_width": null,
            "object_fit": null,
            "object_position": null,
            "order": null,
            "overflow": null,
            "overflow_x": null,
            "overflow_y": null,
            "padding": null,
            "right": null,
            "top": null,
            "visibility": null,
            "width": null
          }
        },
        "cba5d18ed718431e822219b6328e7db6": {
          "model_module": "@jupyter-widgets/base",
          "model_name": "LayoutModel",
          "model_module_version": "1.2.0",
          "state": {
            "_model_module": "@jupyter-widgets/base",
            "_model_module_version": "1.2.0",
            "_model_name": "LayoutModel",
            "_view_count": null,
            "_view_module": "@jupyter-widgets/base",
            "_view_module_version": "1.2.0",
            "_view_name": "LayoutView",
            "align_content": null,
            "align_items": null,
            "align_self": null,
            "border": null,
            "bottom": null,
            "display": null,
            "flex": null,
            "flex_flow": null,
            "grid_area": null,
            "grid_auto_columns": null,
            "grid_auto_flow": null,
            "grid_auto_rows": null,
            "grid_column": null,
            "grid_gap": null,
            "grid_row": null,
            "grid_template_areas": null,
            "grid_template_columns": null,
            "grid_template_rows": null,
            "height": null,
            "justify_content": null,
            "justify_items": null,
            "left": null,
            "margin": null,
            "max_height": null,
            "max_width": null,
            "min_height": null,
            "min_width": null,
            "object_fit": null,
            "object_position": null,
            "order": null,
            "overflow": null,
            "overflow_x": null,
            "overflow_y": null,
            "padding": null,
            "right": null,
            "top": null,
            "visibility": null,
            "width": null
          }
        },
        "8110067da5cf4842a3b6c16c21b83727": {
          "model_module": "@jupyter-widgets/controls",
          "model_name": "DescriptionStyleModel",
          "model_module_version": "1.5.0",
          "state": {
            "_model_module": "@jupyter-widgets/controls",
            "_model_module_version": "1.5.0",
            "_model_name": "DescriptionStyleModel",
            "_view_count": null,
            "_view_module": "@jupyter-widgets/base",
            "_view_module_version": "1.2.0",
            "_view_name": "StyleView",
            "description_width": ""
          }
        },
        "d6ac9658901a4139893dfd3ce3ef1c39": {
          "model_module": "@jupyter-widgets/base",
          "model_name": "LayoutModel",
          "model_module_version": "1.2.0",
          "state": {
            "_model_module": "@jupyter-widgets/base",
            "_model_module_version": "1.2.0",
            "_model_name": "LayoutModel",
            "_view_count": null,
            "_view_module": "@jupyter-widgets/base",
            "_view_module_version": "1.2.0",
            "_view_name": "LayoutView",
            "align_content": null,
            "align_items": null,
            "align_self": null,
            "border": null,
            "bottom": null,
            "display": null,
            "flex": null,
            "flex_flow": null,
            "grid_area": null,
            "grid_auto_columns": null,
            "grid_auto_flow": null,
            "grid_auto_rows": null,
            "grid_column": null,
            "grid_gap": null,
            "grid_row": null,
            "grid_template_areas": null,
            "grid_template_columns": null,
            "grid_template_rows": null,
            "height": null,
            "justify_content": null,
            "justify_items": null,
            "left": null,
            "margin": null,
            "max_height": null,
            "max_width": null,
            "min_height": null,
            "min_width": null,
            "object_fit": null,
            "object_position": null,
            "order": null,
            "overflow": null,
            "overflow_x": null,
            "overflow_y": null,
            "padding": null,
            "right": null,
            "top": null,
            "visibility": null,
            "width": null
          }
        },
        "15158e2e8dca4cf3983e2ba97f7efdcd": {
          "model_module": "@jupyter-widgets/controls",
          "model_name": "ProgressStyleModel",
          "model_module_version": "1.5.0",
          "state": {
            "_model_module": "@jupyter-widgets/controls",
            "_model_module_version": "1.5.0",
            "_model_name": "ProgressStyleModel",
            "_view_count": null,
            "_view_module": "@jupyter-widgets/base",
            "_view_module_version": "1.2.0",
            "_view_name": "StyleView",
            "bar_color": null,
            "description_width": ""
          }
        },
        "a61743d19fa340028621fecaf7d8b8fa": {
          "model_module": "@jupyter-widgets/base",
          "model_name": "LayoutModel",
          "model_module_version": "1.2.0",
          "state": {
            "_model_module": "@jupyter-widgets/base",
            "_model_module_version": "1.2.0",
            "_model_name": "LayoutModel",
            "_view_count": null,
            "_view_module": "@jupyter-widgets/base",
            "_view_module_version": "1.2.0",
            "_view_name": "LayoutView",
            "align_content": null,
            "align_items": null,
            "align_self": null,
            "border": null,
            "bottom": null,
            "display": null,
            "flex": null,
            "flex_flow": null,
            "grid_area": null,
            "grid_auto_columns": null,
            "grid_auto_flow": null,
            "grid_auto_rows": null,
            "grid_column": null,
            "grid_gap": null,
            "grid_row": null,
            "grid_template_areas": null,
            "grid_template_columns": null,
            "grid_template_rows": null,
            "height": null,
            "justify_content": null,
            "justify_items": null,
            "left": null,
            "margin": null,
            "max_height": null,
            "max_width": null,
            "min_height": null,
            "min_width": null,
            "object_fit": null,
            "object_position": null,
            "order": null,
            "overflow": null,
            "overflow_x": null,
            "overflow_y": null,
            "padding": null,
            "right": null,
            "top": null,
            "visibility": null,
            "width": null
          }
        },
        "f710d771b30942399129f47676af7975": {
          "model_module": "@jupyter-widgets/controls",
          "model_name": "DescriptionStyleModel",
          "model_module_version": "1.5.0",
          "state": {
            "_model_module": "@jupyter-widgets/controls",
            "_model_module_version": "1.5.0",
            "_model_name": "DescriptionStyleModel",
            "_view_count": null,
            "_view_module": "@jupyter-widgets/base",
            "_view_module_version": "1.2.0",
            "_view_name": "StyleView",
            "description_width": ""
          }
        },
        "6e6a2ac248764047962fa188f87ba975": {
          "model_module": "@jupyter-widgets/controls",
          "model_name": "HBoxModel",
          "model_module_version": "1.5.0",
          "state": {
            "_dom_classes": [],
            "_model_module": "@jupyter-widgets/controls",
            "_model_module_version": "1.5.0",
            "_model_name": "HBoxModel",
            "_view_count": null,
            "_view_module": "@jupyter-widgets/controls",
            "_view_module_version": "1.5.0",
            "_view_name": "HBoxView",
            "box_style": "",
            "children": [
              "IPY_MODEL_58c6d1e74b9446dfb126eebe74e78a90",
              "IPY_MODEL_0cdbd56a87974f7980a56b8905db9157",
              "IPY_MODEL_a14c0a5008d54353bce337187bdf331a"
            ],
            "layout": "IPY_MODEL_02e10871e6854d91807ba2aa372b44c6"
          }
        },
        "58c6d1e74b9446dfb126eebe74e78a90": {
          "model_module": "@jupyter-widgets/controls",
          "model_name": "HTMLModel",
          "model_module_version": "1.5.0",
          "state": {
            "_dom_classes": [],
            "_model_module": "@jupyter-widgets/controls",
            "_model_module_version": "1.5.0",
            "_model_name": "HTMLModel",
            "_view_count": null,
            "_view_module": "@jupyter-widgets/controls",
            "_view_module_version": "1.5.0",
            "_view_name": "HTMLView",
            "description": "",
            "description_tooltip": null,
            "layout": "IPY_MODEL_99efe5f8eea242638f078312b645cfa7",
            "placeholder": "​",
            "style": "IPY_MODEL_5d7fef429fe54d46a938593c7a61abab",
            "value": "vocab.json: 100%"
          }
        },
        "0cdbd56a87974f7980a56b8905db9157": {
          "model_module": "@jupyter-widgets/controls",
          "model_name": "FloatProgressModel",
          "model_module_version": "1.5.0",
          "state": {
            "_dom_classes": [],
            "_model_module": "@jupyter-widgets/controls",
            "_model_module_version": "1.5.0",
            "_model_name": "FloatProgressModel",
            "_view_count": null,
            "_view_module": "@jupyter-widgets/controls",
            "_view_module_version": "1.5.0",
            "_view_name": "ProgressView",
            "bar_style": "success",
            "description": "",
            "description_tooltip": null,
            "layout": "IPY_MODEL_1614e3b4a3a24002bebd9aa743f5d23c",
            "max": 2097836,
            "min": 0,
            "orientation": "horizontal",
            "style": "IPY_MODEL_10a0d88595f54267a586a083ea7e0b21",
            "value": 2097836
          }
        },
        "a14c0a5008d54353bce337187bdf331a": {
          "model_module": "@jupyter-widgets/controls",
          "model_name": "HTMLModel",
          "model_module_version": "1.5.0",
          "state": {
            "_dom_classes": [],
            "_model_module": "@jupyter-widgets/controls",
            "_model_module_version": "1.5.0",
            "_model_name": "HTMLModel",
            "_view_count": null,
            "_view_module": "@jupyter-widgets/controls",
            "_view_module_version": "1.5.0",
            "_view_name": "HTMLView",
            "description": "",
            "description_tooltip": null,
            "layout": "IPY_MODEL_ec90925cc9cb4068a9cd9d5a7c5dd539",
            "placeholder": "​",
            "style": "IPY_MODEL_ea295d4b6de2468b9f04b40e70e1a9c7",
            "value": " 2.10M/2.10M [00:00&lt;00:00, 29.2MB/s]"
          }
        },
        "02e10871e6854d91807ba2aa372b44c6": {
          "model_module": "@jupyter-widgets/base",
          "model_name": "LayoutModel",
          "model_module_version": "1.2.0",
          "state": {
            "_model_module": "@jupyter-widgets/base",
            "_model_module_version": "1.2.0",
            "_model_name": "LayoutModel",
            "_view_count": null,
            "_view_module": "@jupyter-widgets/base",
            "_view_module_version": "1.2.0",
            "_view_name": "LayoutView",
            "align_content": null,
            "align_items": null,
            "align_self": null,
            "border": null,
            "bottom": null,
            "display": null,
            "flex": null,
            "flex_flow": null,
            "grid_area": null,
            "grid_auto_columns": null,
            "grid_auto_flow": null,
            "grid_auto_rows": null,
            "grid_column": null,
            "grid_gap": null,
            "grid_row": null,
            "grid_template_areas": null,
            "grid_template_columns": null,
            "grid_template_rows": null,
            "height": null,
            "justify_content": null,
            "justify_items": null,
            "left": null,
            "margin": null,
            "max_height": null,
            "max_width": null,
            "min_height": null,
            "min_width": null,
            "object_fit": null,
            "object_position": null,
            "order": null,
            "overflow": null,
            "overflow_x": null,
            "overflow_y": null,
            "padding": null,
            "right": null,
            "top": null,
            "visibility": null,
            "width": null
          }
        },
        "99efe5f8eea242638f078312b645cfa7": {
          "model_module": "@jupyter-widgets/base",
          "model_name": "LayoutModel",
          "model_module_version": "1.2.0",
          "state": {
            "_model_module": "@jupyter-widgets/base",
            "_model_module_version": "1.2.0",
            "_model_name": "LayoutModel",
            "_view_count": null,
            "_view_module": "@jupyter-widgets/base",
            "_view_module_version": "1.2.0",
            "_view_name": "LayoutView",
            "align_content": null,
            "align_items": null,
            "align_self": null,
            "border": null,
            "bottom": null,
            "display": null,
            "flex": null,
            "flex_flow": null,
            "grid_area": null,
            "grid_auto_columns": null,
            "grid_auto_flow": null,
            "grid_auto_rows": null,
            "grid_column": null,
            "grid_gap": null,
            "grid_row": null,
            "grid_template_areas": null,
            "grid_template_columns": null,
            "grid_template_rows": null,
            "height": null,
            "justify_content": null,
            "justify_items": null,
            "left": null,
            "margin": null,
            "max_height": null,
            "max_width": null,
            "min_height": null,
            "min_width": null,
            "object_fit": null,
            "object_position": null,
            "order": null,
            "overflow": null,
            "overflow_x": null,
            "overflow_y": null,
            "padding": null,
            "right": null,
            "top": null,
            "visibility": null,
            "width": null
          }
        },
        "5d7fef429fe54d46a938593c7a61abab": {
          "model_module": "@jupyter-widgets/controls",
          "model_name": "DescriptionStyleModel",
          "model_module_version": "1.5.0",
          "state": {
            "_model_module": "@jupyter-widgets/controls",
            "_model_module_version": "1.5.0",
            "_model_name": "DescriptionStyleModel",
            "_view_count": null,
            "_view_module": "@jupyter-widgets/base",
            "_view_module_version": "1.2.0",
            "_view_name": "StyleView",
            "description_width": ""
          }
        },
        "1614e3b4a3a24002bebd9aa743f5d23c": {
          "model_module": "@jupyter-widgets/base",
          "model_name": "LayoutModel",
          "model_module_version": "1.2.0",
          "state": {
            "_model_module": "@jupyter-widgets/base",
            "_model_module_version": "1.2.0",
            "_model_name": "LayoutModel",
            "_view_count": null,
            "_view_module": "@jupyter-widgets/base",
            "_view_module_version": "1.2.0",
            "_view_name": "LayoutView",
            "align_content": null,
            "align_items": null,
            "align_self": null,
            "border": null,
            "bottom": null,
            "display": null,
            "flex": null,
            "flex_flow": null,
            "grid_area": null,
            "grid_auto_columns": null,
            "grid_auto_flow": null,
            "grid_auto_rows": null,
            "grid_column": null,
            "grid_gap": null,
            "grid_row": null,
            "grid_template_areas": null,
            "grid_template_columns": null,
            "grid_template_rows": null,
            "height": null,
            "justify_content": null,
            "justify_items": null,
            "left": null,
            "margin": null,
            "max_height": null,
            "max_width": null,
            "min_height": null,
            "min_width": null,
            "object_fit": null,
            "object_position": null,
            "order": null,
            "overflow": null,
            "overflow_x": null,
            "overflow_y": null,
            "padding": null,
            "right": null,
            "top": null,
            "visibility": null,
            "width": null
          }
        },
        "10a0d88595f54267a586a083ea7e0b21": {
          "model_module": "@jupyter-widgets/controls",
          "model_name": "ProgressStyleModel",
          "model_module_version": "1.5.0",
          "state": {
            "_model_module": "@jupyter-widgets/controls",
            "_model_module_version": "1.5.0",
            "_model_name": "ProgressStyleModel",
            "_view_count": null,
            "_view_module": "@jupyter-widgets/base",
            "_view_module_version": "1.2.0",
            "_view_name": "StyleView",
            "bar_color": null,
            "description_width": ""
          }
        },
        "ec90925cc9cb4068a9cd9d5a7c5dd539": {
          "model_module": "@jupyter-widgets/base",
          "model_name": "LayoutModel",
          "model_module_version": "1.2.0",
          "state": {
            "_model_module": "@jupyter-widgets/base",
            "_model_module_version": "1.2.0",
            "_model_name": "LayoutModel",
            "_view_count": null,
            "_view_module": "@jupyter-widgets/base",
            "_view_module_version": "1.2.0",
            "_view_name": "LayoutView",
            "align_content": null,
            "align_items": null,
            "align_self": null,
            "border": null,
            "bottom": null,
            "display": null,
            "flex": null,
            "flex_flow": null,
            "grid_area": null,
            "grid_auto_columns": null,
            "grid_auto_flow": null,
            "grid_auto_rows": null,
            "grid_column": null,
            "grid_gap": null,
            "grid_row": null,
            "grid_template_areas": null,
            "grid_template_columns": null,
            "grid_template_rows": null,
            "height": null,
            "justify_content": null,
            "justify_items": null,
            "left": null,
            "margin": null,
            "max_height": null,
            "max_width": null,
            "min_height": null,
            "min_width": null,
            "object_fit": null,
            "object_position": null,
            "order": null,
            "overflow": null,
            "overflow_x": null,
            "overflow_y": null,
            "padding": null,
            "right": null,
            "top": null,
            "visibility": null,
            "width": null
          }
        },
        "ea295d4b6de2468b9f04b40e70e1a9c7": {
          "model_module": "@jupyter-widgets/controls",
          "model_name": "DescriptionStyleModel",
          "model_module_version": "1.5.0",
          "state": {
            "_model_module": "@jupyter-widgets/controls",
            "_model_module_version": "1.5.0",
            "_model_name": "DescriptionStyleModel",
            "_view_count": null,
            "_view_module": "@jupyter-widgets/base",
            "_view_module_version": "1.2.0",
            "_view_name": "StyleView",
            "description_width": ""
          }
        },
        "bac885f3c4dc47ffb49af804478a4fe1": {
          "model_module": "@jupyter-widgets/controls",
          "model_name": "HBoxModel",
          "model_module_version": "1.5.0",
          "state": {
            "_dom_classes": [],
            "_model_module": "@jupyter-widgets/controls",
            "_model_module_version": "1.5.0",
            "_model_name": "HBoxModel",
            "_view_count": null,
            "_view_module": "@jupyter-widgets/controls",
            "_view_module_version": "1.5.0",
            "_view_name": "HBoxView",
            "box_style": "",
            "children": [
              "IPY_MODEL_e50cee3a9bdf4353a32118fb68335e51",
              "IPY_MODEL_57c7877fc0474a47a76dd11dd47c896f",
              "IPY_MODEL_d6328767dbbf4c65a0ba2eb52be49c77"
            ],
            "layout": "IPY_MODEL_d6664cad15914035b60a648370822ba9"
          }
        },
        "e50cee3a9bdf4353a32118fb68335e51": {
          "model_module": "@jupyter-widgets/controls",
          "model_name": "HTMLModel",
          "model_module_version": "1.5.0",
          "state": {
            "_dom_classes": [],
            "_model_module": "@jupyter-widgets/controls",
            "_model_module_version": "1.5.0",
            "_model_name": "HTMLModel",
            "_view_count": null,
            "_view_module": "@jupyter-widgets/controls",
            "_view_module_version": "1.5.0",
            "_view_name": "HTMLView",
            "description": "",
            "description_tooltip": null,
            "layout": "IPY_MODEL_e31b3be361724d1380ceca7f0894102b",
            "placeholder": "​",
            "style": "IPY_MODEL_69c53cf80151492fa39aa60d08d78721",
            "value": "Map: 100%"
          }
        },
        "57c7877fc0474a47a76dd11dd47c896f": {
          "model_module": "@jupyter-widgets/controls",
          "model_name": "FloatProgressModel",
          "model_module_version": "1.5.0",
          "state": {
            "_dom_classes": [],
            "_model_module": "@jupyter-widgets/controls",
            "_model_module_version": "1.5.0",
            "_model_name": "FloatProgressModel",
            "_view_count": null,
            "_view_module": "@jupyter-widgets/controls",
            "_view_module_version": "1.5.0",
            "_view_name": "ProgressView",
            "bar_style": "success",
            "description": "",
            "description_tooltip": null,
            "layout": "IPY_MODEL_b3cb6c42a71349e8bbd680193b418c23",
            "max": 1659083,
            "min": 0,
            "orientation": "horizontal",
            "style": "IPY_MODEL_30add5bf729b407c9abe1e6ca9be5340",
            "value": 1659083
          }
        },
        "d6328767dbbf4c65a0ba2eb52be49c77": {
          "model_module": "@jupyter-widgets/controls",
          "model_name": "HTMLModel",
          "model_module_version": "1.5.0",
          "state": {
            "_dom_classes": [],
            "_model_module": "@jupyter-widgets/controls",
            "_model_module_version": "1.5.0",
            "_model_name": "HTMLModel",
            "_view_count": null,
            "_view_module": "@jupyter-widgets/controls",
            "_view_module_version": "1.5.0",
            "_view_name": "HTMLView",
            "description": "",
            "description_tooltip": null,
            "layout": "IPY_MODEL_9437062c4c1e4cddb00f0cc42cdc9f32",
            "placeholder": "​",
            "style": "IPY_MODEL_5e34a08fc749422d9ceeb8ebdde02f13",
            "value": " 1659083/1659083 [05:39&lt;00:00, 4381.72 examples/s]"
          }
        },
        "d6664cad15914035b60a648370822ba9": {
          "model_module": "@jupyter-widgets/base",
          "model_name": "LayoutModel",
          "model_module_version": "1.2.0",
          "state": {
            "_model_module": "@jupyter-widgets/base",
            "_model_module_version": "1.2.0",
            "_model_name": "LayoutModel",
            "_view_count": null,
            "_view_module": "@jupyter-widgets/base",
            "_view_module_version": "1.2.0",
            "_view_name": "LayoutView",
            "align_content": null,
            "align_items": null,
            "align_self": null,
            "border": null,
            "bottom": null,
            "display": null,
            "flex": null,
            "flex_flow": null,
            "grid_area": null,
            "grid_auto_columns": null,
            "grid_auto_flow": null,
            "grid_auto_rows": null,
            "grid_column": null,
            "grid_gap": null,
            "grid_row": null,
            "grid_template_areas": null,
            "grid_template_columns": null,
            "grid_template_rows": null,
            "height": null,
            "justify_content": null,
            "justify_items": null,
            "left": null,
            "margin": null,
            "max_height": null,
            "max_width": null,
            "min_height": null,
            "min_width": null,
            "object_fit": null,
            "object_position": null,
            "order": null,
            "overflow": null,
            "overflow_x": null,
            "overflow_y": null,
            "padding": null,
            "right": null,
            "top": null,
            "visibility": null,
            "width": null
          }
        },
        "e31b3be361724d1380ceca7f0894102b": {
          "model_module": "@jupyter-widgets/base",
          "model_name": "LayoutModel",
          "model_module_version": "1.2.0",
          "state": {
            "_model_module": "@jupyter-widgets/base",
            "_model_module_version": "1.2.0",
            "_model_name": "LayoutModel",
            "_view_count": null,
            "_view_module": "@jupyter-widgets/base",
            "_view_module_version": "1.2.0",
            "_view_name": "LayoutView",
            "align_content": null,
            "align_items": null,
            "align_self": null,
            "border": null,
            "bottom": null,
            "display": null,
            "flex": null,
            "flex_flow": null,
            "grid_area": null,
            "grid_auto_columns": null,
            "grid_auto_flow": null,
            "grid_auto_rows": null,
            "grid_column": null,
            "grid_gap": null,
            "grid_row": null,
            "grid_template_areas": null,
            "grid_template_columns": null,
            "grid_template_rows": null,
            "height": null,
            "justify_content": null,
            "justify_items": null,
            "left": null,
            "margin": null,
            "max_height": null,
            "max_width": null,
            "min_height": null,
            "min_width": null,
            "object_fit": null,
            "object_position": null,
            "order": null,
            "overflow": null,
            "overflow_x": null,
            "overflow_y": null,
            "padding": null,
            "right": null,
            "top": null,
            "visibility": null,
            "width": null
          }
        },
        "69c53cf80151492fa39aa60d08d78721": {
          "model_module": "@jupyter-widgets/controls",
          "model_name": "DescriptionStyleModel",
          "model_module_version": "1.5.0",
          "state": {
            "_model_module": "@jupyter-widgets/controls",
            "_model_module_version": "1.5.0",
            "_model_name": "DescriptionStyleModel",
            "_view_count": null,
            "_view_module": "@jupyter-widgets/base",
            "_view_module_version": "1.2.0",
            "_view_name": "StyleView",
            "description_width": ""
          }
        },
        "b3cb6c42a71349e8bbd680193b418c23": {
          "model_module": "@jupyter-widgets/base",
          "model_name": "LayoutModel",
          "model_module_version": "1.2.0",
          "state": {
            "_model_module": "@jupyter-widgets/base",
            "_model_module_version": "1.2.0",
            "_model_name": "LayoutModel",
            "_view_count": null,
            "_view_module": "@jupyter-widgets/base",
            "_view_module_version": "1.2.0",
            "_view_name": "LayoutView",
            "align_content": null,
            "align_items": null,
            "align_self": null,
            "border": null,
            "bottom": null,
            "display": null,
            "flex": null,
            "flex_flow": null,
            "grid_area": null,
            "grid_auto_columns": null,
            "grid_auto_flow": null,
            "grid_auto_rows": null,
            "grid_column": null,
            "grid_gap": null,
            "grid_row": null,
            "grid_template_areas": null,
            "grid_template_columns": null,
            "grid_template_rows": null,
            "height": null,
            "justify_content": null,
            "justify_items": null,
            "left": null,
            "margin": null,
            "max_height": null,
            "max_width": null,
            "min_height": null,
            "min_width": null,
            "object_fit": null,
            "object_position": null,
            "order": null,
            "overflow": null,
            "overflow_x": null,
            "overflow_y": null,
            "padding": null,
            "right": null,
            "top": null,
            "visibility": null,
            "width": null
          }
        },
        "30add5bf729b407c9abe1e6ca9be5340": {
          "model_module": "@jupyter-widgets/controls",
          "model_name": "ProgressStyleModel",
          "model_module_version": "1.5.0",
          "state": {
            "_model_module": "@jupyter-widgets/controls",
            "_model_module_version": "1.5.0",
            "_model_name": "ProgressStyleModel",
            "_view_count": null,
            "_view_module": "@jupyter-widgets/base",
            "_view_module_version": "1.2.0",
            "_view_name": "StyleView",
            "bar_color": null,
            "description_width": ""
          }
        },
        "9437062c4c1e4cddb00f0cc42cdc9f32": {
          "model_module": "@jupyter-widgets/base",
          "model_name": "LayoutModel",
          "model_module_version": "1.2.0",
          "state": {
            "_model_module": "@jupyter-widgets/base",
            "_model_module_version": "1.2.0",
            "_model_name": "LayoutModel",
            "_view_count": null,
            "_view_module": "@jupyter-widgets/base",
            "_view_module_version": "1.2.0",
            "_view_name": "LayoutView",
            "align_content": null,
            "align_items": null,
            "align_self": null,
            "border": null,
            "bottom": null,
            "display": null,
            "flex": null,
            "flex_flow": null,
            "grid_area": null,
            "grid_auto_columns": null,
            "grid_auto_flow": null,
            "grid_auto_rows": null,
            "grid_column": null,
            "grid_gap": null,
            "grid_row": null,
            "grid_template_areas": null,
            "grid_template_columns": null,
            "grid_template_rows": null,
            "height": null,
            "justify_content": null,
            "justify_items": null,
            "left": null,
            "margin": null,
            "max_height": null,
            "max_width": null,
            "min_height": null,
            "min_width": null,
            "object_fit": null,
            "object_position": null,
            "order": null,
            "overflow": null,
            "overflow_x": null,
            "overflow_y": null,
            "padding": null,
            "right": null,
            "top": null,
            "visibility": null,
            "width": null
          }
        },
        "5e34a08fc749422d9ceeb8ebdde02f13": {
          "model_module": "@jupyter-widgets/controls",
          "model_name": "DescriptionStyleModel",
          "model_module_version": "1.5.0",
          "state": {
            "_model_module": "@jupyter-widgets/controls",
            "_model_module_version": "1.5.0",
            "_model_name": "DescriptionStyleModel",
            "_view_count": null,
            "_view_module": "@jupyter-widgets/base",
            "_view_module_version": "1.2.0",
            "_view_name": "StyleView",
            "description_width": ""
          }
        },
        "aa37ec15348c4e1897a171607ae86133": {
          "model_module": "@jupyter-widgets/controls",
          "model_name": "HBoxModel",
          "model_module_version": "1.5.0",
          "state": {
            "_dom_classes": [],
            "_model_module": "@jupyter-widgets/controls",
            "_model_module_version": "1.5.0",
            "_model_name": "HBoxModel",
            "_view_count": null,
            "_view_module": "@jupyter-widgets/controls",
            "_view_module_version": "1.5.0",
            "_view_name": "HBoxView",
            "box_style": "",
            "children": [
              "IPY_MODEL_5775454d32ac4454867283fabd5e31da",
              "IPY_MODEL_34a6dfe43e74401093fea49c3c66977d",
              "IPY_MODEL_5aac80261dec45e98afdb1742168a02c"
            ],
            "layout": "IPY_MODEL_1a9c634e184a482bb1d0cb3b0492d6db"
          }
        },
        "5775454d32ac4454867283fabd5e31da": {
          "model_module": "@jupyter-widgets/controls",
          "model_name": "HTMLModel",
          "model_module_version": "1.5.0",
          "state": {
            "_dom_classes": [],
            "_model_module": "@jupyter-widgets/controls",
            "_model_module_version": "1.5.0",
            "_model_name": "HTMLModel",
            "_view_count": null,
            "_view_module": "@jupyter-widgets/controls",
            "_view_module_version": "1.5.0",
            "_view_name": "HTMLView",
            "description": "",
            "description_tooltip": null,
            "layout": "IPY_MODEL_dad1f80a27a3499eae54357b99c991ec",
            "placeholder": "​",
            "style": "IPY_MODEL_83b3e1cb370e460d834948a2c345dd94",
            "value": "Map: 100%"
          }
        },
        "34a6dfe43e74401093fea49c3c66977d": {
          "model_module": "@jupyter-widgets/controls",
          "model_name": "FloatProgressModel",
          "model_module_version": "1.5.0",
          "state": {
            "_dom_classes": [],
            "_model_module": "@jupyter-widgets/controls",
            "_model_module_version": "1.5.0",
            "_model_name": "FloatProgressModel",
            "_view_count": null,
            "_view_module": "@jupyter-widgets/controls",
            "_view_module_version": "1.5.0",
            "_view_name": "ProgressView",
            "bar_style": "success",
            "description": "",
            "description_tooltip": null,
            "layout": "IPY_MODEL_037e790cf1594917a2d29ec121ac7e3d",
            "max": 520,
            "min": 0,
            "orientation": "horizontal",
            "style": "IPY_MODEL_b8c16f629e224e1b8d9c8a68d92b5dd4",
            "value": 520
          }
        },
        "5aac80261dec45e98afdb1742168a02c": {
          "model_module": "@jupyter-widgets/controls",
          "model_name": "HTMLModel",
          "model_module_version": "1.5.0",
          "state": {
            "_dom_classes": [],
            "_model_module": "@jupyter-widgets/controls",
            "_model_module_version": "1.5.0",
            "_model_name": "HTMLModel",
            "_view_count": null,
            "_view_module": "@jupyter-widgets/controls",
            "_view_module_version": "1.5.0",
            "_view_name": "HTMLView",
            "description": "",
            "description_tooltip": null,
            "layout": "IPY_MODEL_2a9e0bf44dec41d2862a6076aca06946",
            "placeholder": "​",
            "style": "IPY_MODEL_7a5d90cdb060483786c900821f90ebaa",
            "value": " 520/520 [00:00&lt;00:00, 3493.22 examples/s]"
          }
        },
        "1a9c634e184a482bb1d0cb3b0492d6db": {
          "model_module": "@jupyter-widgets/base",
          "model_name": "LayoutModel",
          "model_module_version": "1.2.0",
          "state": {
            "_model_module": "@jupyter-widgets/base",
            "_model_module_version": "1.2.0",
            "_model_name": "LayoutModel",
            "_view_count": null,
            "_view_module": "@jupyter-widgets/base",
            "_view_module_version": "1.2.0",
            "_view_name": "LayoutView",
            "align_content": null,
            "align_items": null,
            "align_self": null,
            "border": null,
            "bottom": null,
            "display": null,
            "flex": null,
            "flex_flow": null,
            "grid_area": null,
            "grid_auto_columns": null,
            "grid_auto_flow": null,
            "grid_auto_rows": null,
            "grid_column": null,
            "grid_gap": null,
            "grid_row": null,
            "grid_template_areas": null,
            "grid_template_columns": null,
            "grid_template_rows": null,
            "height": null,
            "justify_content": null,
            "justify_items": null,
            "left": null,
            "margin": null,
            "max_height": null,
            "max_width": null,
            "min_height": null,
            "min_width": null,
            "object_fit": null,
            "object_position": null,
            "order": null,
            "overflow": null,
            "overflow_x": null,
            "overflow_y": null,
            "padding": null,
            "right": null,
            "top": null,
            "visibility": null,
            "width": null
          }
        },
        "dad1f80a27a3499eae54357b99c991ec": {
          "model_module": "@jupyter-widgets/base",
          "model_name": "LayoutModel",
          "model_module_version": "1.2.0",
          "state": {
            "_model_module": "@jupyter-widgets/base",
            "_model_module_version": "1.2.0",
            "_model_name": "LayoutModel",
            "_view_count": null,
            "_view_module": "@jupyter-widgets/base",
            "_view_module_version": "1.2.0",
            "_view_name": "LayoutView",
            "align_content": null,
            "align_items": null,
            "align_self": null,
            "border": null,
            "bottom": null,
            "display": null,
            "flex": null,
            "flex_flow": null,
            "grid_area": null,
            "grid_auto_columns": null,
            "grid_auto_flow": null,
            "grid_auto_rows": null,
            "grid_column": null,
            "grid_gap": null,
            "grid_row": null,
            "grid_template_areas": null,
            "grid_template_columns": null,
            "grid_template_rows": null,
            "height": null,
            "justify_content": null,
            "justify_items": null,
            "left": null,
            "margin": null,
            "max_height": null,
            "max_width": null,
            "min_height": null,
            "min_width": null,
            "object_fit": null,
            "object_position": null,
            "order": null,
            "overflow": null,
            "overflow_x": null,
            "overflow_y": null,
            "padding": null,
            "right": null,
            "top": null,
            "visibility": null,
            "width": null
          }
        },
        "83b3e1cb370e460d834948a2c345dd94": {
          "model_module": "@jupyter-widgets/controls",
          "model_name": "DescriptionStyleModel",
          "model_module_version": "1.5.0",
          "state": {
            "_model_module": "@jupyter-widgets/controls",
            "_model_module_version": "1.5.0",
            "_model_name": "DescriptionStyleModel",
            "_view_count": null,
            "_view_module": "@jupyter-widgets/base",
            "_view_module_version": "1.2.0",
            "_view_name": "StyleView",
            "description_width": ""
          }
        },
        "037e790cf1594917a2d29ec121ac7e3d": {
          "model_module": "@jupyter-widgets/base",
          "model_name": "LayoutModel",
          "model_module_version": "1.2.0",
          "state": {
            "_model_module": "@jupyter-widgets/base",
            "_model_module_version": "1.2.0",
            "_model_name": "LayoutModel",
            "_view_count": null,
            "_view_module": "@jupyter-widgets/base",
            "_view_module_version": "1.2.0",
            "_view_name": "LayoutView",
            "align_content": null,
            "align_items": null,
            "align_self": null,
            "border": null,
            "bottom": null,
            "display": null,
            "flex": null,
            "flex_flow": null,
            "grid_area": null,
            "grid_auto_columns": null,
            "grid_auto_flow": null,
            "grid_auto_rows": null,
            "grid_column": null,
            "grid_gap": null,
            "grid_row": null,
            "grid_template_areas": null,
            "grid_template_columns": null,
            "grid_template_rows": null,
            "height": null,
            "justify_content": null,
            "justify_items": null,
            "left": null,
            "margin": null,
            "max_height": null,
            "max_width": null,
            "min_height": null,
            "min_width": null,
            "object_fit": null,
            "object_position": null,
            "order": null,
            "overflow": null,
            "overflow_x": null,
            "overflow_y": null,
            "padding": null,
            "right": null,
            "top": null,
            "visibility": null,
            "width": null
          }
        },
        "b8c16f629e224e1b8d9c8a68d92b5dd4": {
          "model_module": "@jupyter-widgets/controls",
          "model_name": "ProgressStyleModel",
          "model_module_version": "1.5.0",
          "state": {
            "_model_module": "@jupyter-widgets/controls",
            "_model_module_version": "1.5.0",
            "_model_name": "ProgressStyleModel",
            "_view_count": null,
            "_view_module": "@jupyter-widgets/base",
            "_view_module_version": "1.2.0",
            "_view_name": "StyleView",
            "bar_color": null,
            "description_width": ""
          }
        },
        "2a9e0bf44dec41d2862a6076aca06946": {
          "model_module": "@jupyter-widgets/base",
          "model_name": "LayoutModel",
          "model_module_version": "1.2.0",
          "state": {
            "_model_module": "@jupyter-widgets/base",
            "_model_module_version": "1.2.0",
            "_model_name": "LayoutModel",
            "_view_count": null,
            "_view_module": "@jupyter-widgets/base",
            "_view_module_version": "1.2.0",
            "_view_name": "LayoutView",
            "align_content": null,
            "align_items": null,
            "align_self": null,
            "border": null,
            "bottom": null,
            "display": null,
            "flex": null,
            "flex_flow": null,
            "grid_area": null,
            "grid_auto_columns": null,
            "grid_auto_flow": null,
            "grid_auto_rows": null,
            "grid_column": null,
            "grid_gap": null,
            "grid_row": null,
            "grid_template_areas": null,
            "grid_template_columns": null,
            "grid_template_rows": null,
            "height": null,
            "justify_content": null,
            "justify_items": null,
            "left": null,
            "margin": null,
            "max_height": null,
            "max_width": null,
            "min_height": null,
            "min_width": null,
            "object_fit": null,
            "object_position": null,
            "order": null,
            "overflow": null,
            "overflow_x": null,
            "overflow_y": null,
            "padding": null,
            "right": null,
            "top": null,
            "visibility": null,
            "width": null
          }
        },
        "7a5d90cdb060483786c900821f90ebaa": {
          "model_module": "@jupyter-widgets/controls",
          "model_name": "DescriptionStyleModel",
          "model_module_version": "1.5.0",
          "state": {
            "_model_module": "@jupyter-widgets/controls",
            "_model_module_version": "1.5.0",
            "_model_name": "DescriptionStyleModel",
            "_view_count": null,
            "_view_module": "@jupyter-widgets/base",
            "_view_module_version": "1.2.0",
            "_view_name": "StyleView",
            "description_width": ""
          }
        },
        "95fa7e46842541b3a73ced675d9cb8a8": {
          "model_module": "@jupyter-widgets/controls",
          "model_name": "HBoxModel",
          "model_module_version": "1.5.0",
          "state": {
            "_dom_classes": [],
            "_model_module": "@jupyter-widgets/controls",
            "_model_module_version": "1.5.0",
            "_model_name": "HBoxModel",
            "_view_count": null,
            "_view_module": "@jupyter-widgets/controls",
            "_view_module_version": "1.5.0",
            "_view_name": "HBoxView",
            "box_style": "",
            "children": [
              "IPY_MODEL_2661fcacafb6461ca163fe4de4a807ba",
              "IPY_MODEL_111c469953cc446aa89534b68381e5c8",
              "IPY_MODEL_c4383fc3b0a34edfa73831956753e148"
            ],
            "layout": "IPY_MODEL_7860fbec94014a1abde8bbf957eac616"
          }
        },
        "2661fcacafb6461ca163fe4de4a807ba": {
          "model_module": "@jupyter-widgets/controls",
          "model_name": "HTMLModel",
          "model_module_version": "1.5.0",
          "state": {
            "_dom_classes": [],
            "_model_module": "@jupyter-widgets/controls",
            "_model_module_version": "1.5.0",
            "_model_name": "HTMLModel",
            "_view_count": null,
            "_view_module": "@jupyter-widgets/controls",
            "_view_module_version": "1.5.0",
            "_view_name": "HTMLView",
            "description": "",
            "description_tooltip": null,
            "layout": "IPY_MODEL_108761b26ad14c648957099202b3305d",
            "placeholder": "​",
            "style": "IPY_MODEL_18cd59727df44bbdbaf1032dead3c49e",
            "value": "Map: 100%"
          }
        },
        "111c469953cc446aa89534b68381e5c8": {
          "model_module": "@jupyter-widgets/controls",
          "model_name": "FloatProgressModel",
          "model_module_version": "1.5.0",
          "state": {
            "_dom_classes": [],
            "_model_module": "@jupyter-widgets/controls",
            "_model_module_version": "1.5.0",
            "_model_name": "FloatProgressModel",
            "_view_count": null,
            "_view_module": "@jupyter-widgets/controls",
            "_view_module_version": "1.5.0",
            "_view_name": "ProgressView",
            "bar_style": "success",
            "description": "",
            "description_tooltip": null,
            "layout": "IPY_MODEL_1efcd3cb821c4044b5f7b1fe1d03dd96",
            "max": 2507,
            "min": 0,
            "orientation": "horizontal",
            "style": "IPY_MODEL_bfddea4d14b44a3abf8934a2e4fce125",
            "value": 2507
          }
        },
        "c4383fc3b0a34edfa73831956753e148": {
          "model_module": "@jupyter-widgets/controls",
          "model_name": "HTMLModel",
          "model_module_version": "1.5.0",
          "state": {
            "_dom_classes": [],
            "_model_module": "@jupyter-widgets/controls",
            "_model_module_version": "1.5.0",
            "_model_name": "HTMLModel",
            "_view_count": null,
            "_view_module": "@jupyter-widgets/controls",
            "_view_module_version": "1.5.0",
            "_view_name": "HTMLView",
            "description": "",
            "description_tooltip": null,
            "layout": "IPY_MODEL_0249604c438c4e1cb5fd1d43d5dfcd8e",
            "placeholder": "​",
            "style": "IPY_MODEL_80115d92ecd44f1dacc652a5bf06959e",
            "value": " 2507/2507 [00:00&lt;00:00, 3690.62 examples/s]"
          }
        },
        "7860fbec94014a1abde8bbf957eac616": {
          "model_module": "@jupyter-widgets/base",
          "model_name": "LayoutModel",
          "model_module_version": "1.2.0",
          "state": {
            "_model_module": "@jupyter-widgets/base",
            "_model_module_version": "1.2.0",
            "_model_name": "LayoutModel",
            "_view_count": null,
            "_view_module": "@jupyter-widgets/base",
            "_view_module_version": "1.2.0",
            "_view_name": "LayoutView",
            "align_content": null,
            "align_items": null,
            "align_self": null,
            "border": null,
            "bottom": null,
            "display": null,
            "flex": null,
            "flex_flow": null,
            "grid_area": null,
            "grid_auto_columns": null,
            "grid_auto_flow": null,
            "grid_auto_rows": null,
            "grid_column": null,
            "grid_gap": null,
            "grid_row": null,
            "grid_template_areas": null,
            "grid_template_columns": null,
            "grid_template_rows": null,
            "height": null,
            "justify_content": null,
            "justify_items": null,
            "left": null,
            "margin": null,
            "max_height": null,
            "max_width": null,
            "min_height": null,
            "min_width": null,
            "object_fit": null,
            "object_position": null,
            "order": null,
            "overflow": null,
            "overflow_x": null,
            "overflow_y": null,
            "padding": null,
            "right": null,
            "top": null,
            "visibility": null,
            "width": null
          }
        },
        "108761b26ad14c648957099202b3305d": {
          "model_module": "@jupyter-widgets/base",
          "model_name": "LayoutModel",
          "model_module_version": "1.2.0",
          "state": {
            "_model_module": "@jupyter-widgets/base",
            "_model_module_version": "1.2.0",
            "_model_name": "LayoutModel",
            "_view_count": null,
            "_view_module": "@jupyter-widgets/base",
            "_view_module_version": "1.2.0",
            "_view_name": "LayoutView",
            "align_content": null,
            "align_items": null,
            "align_self": null,
            "border": null,
            "bottom": null,
            "display": null,
            "flex": null,
            "flex_flow": null,
            "grid_area": null,
            "grid_auto_columns": null,
            "grid_auto_flow": null,
            "grid_auto_rows": null,
            "grid_column": null,
            "grid_gap": null,
            "grid_row": null,
            "grid_template_areas": null,
            "grid_template_columns": null,
            "grid_template_rows": null,
            "height": null,
            "justify_content": null,
            "justify_items": null,
            "left": null,
            "margin": null,
            "max_height": null,
            "max_width": null,
            "min_height": null,
            "min_width": null,
            "object_fit": null,
            "object_position": null,
            "order": null,
            "overflow": null,
            "overflow_x": null,
            "overflow_y": null,
            "padding": null,
            "right": null,
            "top": null,
            "visibility": null,
            "width": null
          }
        },
        "18cd59727df44bbdbaf1032dead3c49e": {
          "model_module": "@jupyter-widgets/controls",
          "model_name": "DescriptionStyleModel",
          "model_module_version": "1.5.0",
          "state": {
            "_model_module": "@jupyter-widgets/controls",
            "_model_module_version": "1.5.0",
            "_model_name": "DescriptionStyleModel",
            "_view_count": null,
            "_view_module": "@jupyter-widgets/base",
            "_view_module_version": "1.2.0",
            "_view_name": "StyleView",
            "description_width": ""
          }
        },
        "1efcd3cb821c4044b5f7b1fe1d03dd96": {
          "model_module": "@jupyter-widgets/base",
          "model_name": "LayoutModel",
          "model_module_version": "1.2.0",
          "state": {
            "_model_module": "@jupyter-widgets/base",
            "_model_module_version": "1.2.0",
            "_model_name": "LayoutModel",
            "_view_count": null,
            "_view_module": "@jupyter-widgets/base",
            "_view_module_version": "1.2.0",
            "_view_name": "LayoutView",
            "align_content": null,
            "align_items": null,
            "align_self": null,
            "border": null,
            "bottom": null,
            "display": null,
            "flex": null,
            "flex_flow": null,
            "grid_area": null,
            "grid_auto_columns": null,
            "grid_auto_flow": null,
            "grid_auto_rows": null,
            "grid_column": null,
            "grid_gap": null,
            "grid_row": null,
            "grid_template_areas": null,
            "grid_template_columns": null,
            "grid_template_rows": null,
            "height": null,
            "justify_content": null,
            "justify_items": null,
            "left": null,
            "margin": null,
            "max_height": null,
            "max_width": null,
            "min_height": null,
            "min_width": null,
            "object_fit": null,
            "object_position": null,
            "order": null,
            "overflow": null,
            "overflow_x": null,
            "overflow_y": null,
            "padding": null,
            "right": null,
            "top": null,
            "visibility": null,
            "width": null
          }
        },
        "bfddea4d14b44a3abf8934a2e4fce125": {
          "model_module": "@jupyter-widgets/controls",
          "model_name": "ProgressStyleModel",
          "model_module_version": "1.5.0",
          "state": {
            "_model_module": "@jupyter-widgets/controls",
            "_model_module_version": "1.5.0",
            "_model_name": "ProgressStyleModel",
            "_view_count": null,
            "_view_module": "@jupyter-widgets/base",
            "_view_module_version": "1.2.0",
            "_view_name": "StyleView",
            "bar_color": null,
            "description_width": ""
          }
        },
        "0249604c438c4e1cb5fd1d43d5dfcd8e": {
          "model_module": "@jupyter-widgets/base",
          "model_name": "LayoutModel",
          "model_module_version": "1.2.0",
          "state": {
            "_model_module": "@jupyter-widgets/base",
            "_model_module_version": "1.2.0",
            "_model_name": "LayoutModel",
            "_view_count": null,
            "_view_module": "@jupyter-widgets/base",
            "_view_module_version": "1.2.0",
            "_view_name": "LayoutView",
            "align_content": null,
            "align_items": null,
            "align_self": null,
            "border": null,
            "bottom": null,
            "display": null,
            "flex": null,
            "flex_flow": null,
            "grid_area": null,
            "grid_auto_columns": null,
            "grid_auto_flow": null,
            "grid_auto_rows": null,
            "grid_column": null,
            "grid_gap": null,
            "grid_row": null,
            "grid_template_areas": null,
            "grid_template_columns": null,
            "grid_template_rows": null,
            "height": null,
            "justify_content": null,
            "justify_items": null,
            "left": null,
            "margin": null,
            "max_height": null,
            "max_width": null,
            "min_height": null,
            "min_width": null,
            "object_fit": null,
            "object_position": null,
            "order": null,
            "overflow": null,
            "overflow_x": null,
            "overflow_y": null,
            "padding": null,
            "right": null,
            "top": null,
            "visibility": null,
            "width": null
          }
        },
        "80115d92ecd44f1dacc652a5bf06959e": {
          "model_module": "@jupyter-widgets/controls",
          "model_name": "DescriptionStyleModel",
          "model_module_version": "1.5.0",
          "state": {
            "_model_module": "@jupyter-widgets/controls",
            "_model_module_version": "1.5.0",
            "_model_name": "DescriptionStyleModel",
            "_view_count": null,
            "_view_module": "@jupyter-widgets/base",
            "_view_module_version": "1.2.0",
            "_view_name": "StyleView",
            "description_width": ""
          }
        },
        "077c278e411f4aa1adc6555c812967dc": {
          "model_module": "@jupyter-widgets/controls",
          "model_name": "HBoxModel",
          "model_module_version": "1.5.0",
          "state": {
            "_dom_classes": [],
            "_model_module": "@jupyter-widgets/controls",
            "_model_module_version": "1.5.0",
            "_model_name": "HBoxModel",
            "_view_count": null,
            "_view_module": "@jupyter-widgets/controls",
            "_view_module_version": "1.5.0",
            "_view_name": "HBoxView",
            "box_style": "",
            "children": [
              "IPY_MODEL_dba3728a5075428992718b261f1ae225",
              "IPY_MODEL_94428a745fd846ff8741f8802cc5bd35",
              "IPY_MODEL_645aa898b52f4e52bf8d39f9ae0b1a39"
            ],
            "layout": "IPY_MODEL_f1d38800e6a445c6b204e8882296e761"
          }
        },
        "dba3728a5075428992718b261f1ae225": {
          "model_module": "@jupyter-widgets/controls",
          "model_name": "HTMLModel",
          "model_module_version": "1.5.0",
          "state": {
            "_dom_classes": [],
            "_model_module": "@jupyter-widgets/controls",
            "_model_module_version": "1.5.0",
            "_model_name": "HTMLModel",
            "_view_count": null,
            "_view_module": "@jupyter-widgets/controls",
            "_view_module_version": "1.5.0",
            "_view_name": "HTMLView",
            "description": "",
            "description_tooltip": null,
            "layout": "IPY_MODEL_9f06c007574e4acaabcf97a3c8c50fd6",
            "placeholder": "​",
            "style": "IPY_MODEL_fdcca8ad5c6044e7b2790e4a375fa6a2",
            "value": "tf_model.h5: 100%"
          }
        },
        "94428a745fd846ff8741f8802cc5bd35": {
          "model_module": "@jupyter-widgets/controls",
          "model_name": "FloatProgressModel",
          "model_module_version": "1.5.0",
          "state": {
            "_dom_classes": [],
            "_model_module": "@jupyter-widgets/controls",
            "_model_module_version": "1.5.0",
            "_model_name": "FloatProgressModel",
            "_view_count": null,
            "_view_module": "@jupyter-widgets/controls",
            "_view_module_version": "1.5.0",
            "_view_name": "ProgressView",
            "bar_style": "success",
            "description": "",
            "description_tooltip": null,
            "layout": "IPY_MODEL_b828066b5ea64377a73aeb6cff11a8de",
            "max": 306307744,
            "min": 0,
            "orientation": "horizontal",
            "style": "IPY_MODEL_b644eea3f1ff493795eb5dd10b7229e7",
            "value": 306307744
          }
        },
        "645aa898b52f4e52bf8d39f9ae0b1a39": {
          "model_module": "@jupyter-widgets/controls",
          "model_name": "HTMLModel",
          "model_module_version": "1.5.0",
          "state": {
            "_dom_classes": [],
            "_model_module": "@jupyter-widgets/controls",
            "_model_module_version": "1.5.0",
            "_model_name": "HTMLModel",
            "_view_count": null,
            "_view_module": "@jupyter-widgets/controls",
            "_view_module_version": "1.5.0",
            "_view_name": "HTMLView",
            "description": "",
            "description_tooltip": null,
            "layout": "IPY_MODEL_36fb31a14f8c4ab98a0dbdfdc2cd4548",
            "placeholder": "​",
            "style": "IPY_MODEL_821fb0f6534349ecbf8405bf8d8cbbc5",
            "value": " 306M/306M [00:02&lt;00:00, 144MB/s]"
          }
        },
        "f1d38800e6a445c6b204e8882296e761": {
          "model_module": "@jupyter-widgets/base",
          "model_name": "LayoutModel",
          "model_module_version": "1.2.0",
          "state": {
            "_model_module": "@jupyter-widgets/base",
            "_model_module_version": "1.2.0",
            "_model_name": "LayoutModel",
            "_view_count": null,
            "_view_module": "@jupyter-widgets/base",
            "_view_module_version": "1.2.0",
            "_view_name": "LayoutView",
            "align_content": null,
            "align_items": null,
            "align_self": null,
            "border": null,
            "bottom": null,
            "display": null,
            "flex": null,
            "flex_flow": null,
            "grid_area": null,
            "grid_auto_columns": null,
            "grid_auto_flow": null,
            "grid_auto_rows": null,
            "grid_column": null,
            "grid_gap": null,
            "grid_row": null,
            "grid_template_areas": null,
            "grid_template_columns": null,
            "grid_template_rows": null,
            "height": null,
            "justify_content": null,
            "justify_items": null,
            "left": null,
            "margin": null,
            "max_height": null,
            "max_width": null,
            "min_height": null,
            "min_width": null,
            "object_fit": null,
            "object_position": null,
            "order": null,
            "overflow": null,
            "overflow_x": null,
            "overflow_y": null,
            "padding": null,
            "right": null,
            "top": null,
            "visibility": null,
            "width": null
          }
        },
        "9f06c007574e4acaabcf97a3c8c50fd6": {
          "model_module": "@jupyter-widgets/base",
          "model_name": "LayoutModel",
          "model_module_version": "1.2.0",
          "state": {
            "_model_module": "@jupyter-widgets/base",
            "_model_module_version": "1.2.0",
            "_model_name": "LayoutModel",
            "_view_count": null,
            "_view_module": "@jupyter-widgets/base",
            "_view_module_version": "1.2.0",
            "_view_name": "LayoutView",
            "align_content": null,
            "align_items": null,
            "align_self": null,
            "border": null,
            "bottom": null,
            "display": null,
            "flex": null,
            "flex_flow": null,
            "grid_area": null,
            "grid_auto_columns": null,
            "grid_auto_flow": null,
            "grid_auto_rows": null,
            "grid_column": null,
            "grid_gap": null,
            "grid_row": null,
            "grid_template_areas": null,
            "grid_template_columns": null,
            "grid_template_rows": null,
            "height": null,
            "justify_content": null,
            "justify_items": null,
            "left": null,
            "margin": null,
            "max_height": null,
            "max_width": null,
            "min_height": null,
            "min_width": null,
            "object_fit": null,
            "object_position": null,
            "order": null,
            "overflow": null,
            "overflow_x": null,
            "overflow_y": null,
            "padding": null,
            "right": null,
            "top": null,
            "visibility": null,
            "width": null
          }
        },
        "fdcca8ad5c6044e7b2790e4a375fa6a2": {
          "model_module": "@jupyter-widgets/controls",
          "model_name": "DescriptionStyleModel",
          "model_module_version": "1.5.0",
          "state": {
            "_model_module": "@jupyter-widgets/controls",
            "_model_module_version": "1.5.0",
            "_model_name": "DescriptionStyleModel",
            "_view_count": null,
            "_view_module": "@jupyter-widgets/base",
            "_view_module_version": "1.2.0",
            "_view_name": "StyleView",
            "description_width": ""
          }
        },
        "b828066b5ea64377a73aeb6cff11a8de": {
          "model_module": "@jupyter-widgets/base",
          "model_name": "LayoutModel",
          "model_module_version": "1.2.0",
          "state": {
            "_model_module": "@jupyter-widgets/base",
            "_model_module_version": "1.2.0",
            "_model_name": "LayoutModel",
            "_view_count": null,
            "_view_module": "@jupyter-widgets/base",
            "_view_module_version": "1.2.0",
            "_view_name": "LayoutView",
            "align_content": null,
            "align_items": null,
            "align_self": null,
            "border": null,
            "bottom": null,
            "display": null,
            "flex": null,
            "flex_flow": null,
            "grid_area": null,
            "grid_auto_columns": null,
            "grid_auto_flow": null,
            "grid_auto_rows": null,
            "grid_column": null,
            "grid_gap": null,
            "grid_row": null,
            "grid_template_areas": null,
            "grid_template_columns": null,
            "grid_template_rows": null,
            "height": null,
            "justify_content": null,
            "justify_items": null,
            "left": null,
            "margin": null,
            "max_height": null,
            "max_width": null,
            "min_height": null,
            "min_width": null,
            "object_fit": null,
            "object_position": null,
            "order": null,
            "overflow": null,
            "overflow_x": null,
            "overflow_y": null,
            "padding": null,
            "right": null,
            "top": null,
            "visibility": null,
            "width": null
          }
        },
        "b644eea3f1ff493795eb5dd10b7229e7": {
          "model_module": "@jupyter-widgets/controls",
          "model_name": "ProgressStyleModel",
          "model_module_version": "1.5.0",
          "state": {
            "_model_module": "@jupyter-widgets/controls",
            "_model_module_version": "1.5.0",
            "_model_name": "ProgressStyleModel",
            "_view_count": null,
            "_view_module": "@jupyter-widgets/base",
            "_view_module_version": "1.2.0",
            "_view_name": "StyleView",
            "bar_color": null,
            "description_width": ""
          }
        },
        "36fb31a14f8c4ab98a0dbdfdc2cd4548": {
          "model_module": "@jupyter-widgets/base",
          "model_name": "LayoutModel",
          "model_module_version": "1.2.0",
          "state": {
            "_model_module": "@jupyter-widgets/base",
            "_model_module_version": "1.2.0",
            "_model_name": "LayoutModel",
            "_view_count": null,
            "_view_module": "@jupyter-widgets/base",
            "_view_module_version": "1.2.0",
            "_view_name": "LayoutView",
            "align_content": null,
            "align_items": null,
            "align_self": null,
            "border": null,
            "bottom": null,
            "display": null,
            "flex": null,
            "flex_flow": null,
            "grid_area": null,
            "grid_auto_columns": null,
            "grid_auto_flow": null,
            "grid_auto_rows": null,
            "grid_column": null,
            "grid_gap": null,
            "grid_row": null,
            "grid_template_areas": null,
            "grid_template_columns": null,
            "grid_template_rows": null,
            "height": null,
            "justify_content": null,
            "justify_items": null,
            "left": null,
            "margin": null,
            "max_height": null,
            "max_width": null,
            "min_height": null,
            "min_width": null,
            "object_fit": null,
            "object_position": null,
            "order": null,
            "overflow": null,
            "overflow_x": null,
            "overflow_y": null,
            "padding": null,
            "right": null,
            "top": null,
            "visibility": null,
            "width": null
          }
        },
        "821fb0f6534349ecbf8405bf8d8cbbc5": {
          "model_module": "@jupyter-widgets/controls",
          "model_name": "DescriptionStyleModel",
          "model_module_version": "1.5.0",
          "state": {
            "_model_module": "@jupyter-widgets/controls",
            "_model_module_version": "1.5.0",
            "_model_name": "DescriptionStyleModel",
            "_view_count": null,
            "_view_module": "@jupyter-widgets/base",
            "_view_module_version": "1.2.0",
            "_view_name": "StyleView",
            "description_width": ""
          }
        },
        "8e8beb71863443c1a9e1a56f136437ee": {
          "model_module": "@jupyter-widgets/controls",
          "model_name": "HBoxModel",
          "model_module_version": "1.5.0",
          "state": {
            "_dom_classes": [],
            "_model_module": "@jupyter-widgets/controls",
            "_model_module_version": "1.5.0",
            "_model_name": "HBoxModel",
            "_view_count": null,
            "_view_module": "@jupyter-widgets/controls",
            "_view_module_version": "1.5.0",
            "_view_name": "HBoxView",
            "box_style": "",
            "children": [
              "IPY_MODEL_d5a28ee39f2042279d325d926393d185",
              "IPY_MODEL_b7da9e4b949041669f69bc281ddcd1ce",
              "IPY_MODEL_d0e5235719174fc8b62bf54b4a5b8f86"
            ],
            "layout": "IPY_MODEL_c0ddf7d961ff40958cfb4c910b8fda4d"
          }
        },
        "d5a28ee39f2042279d325d926393d185": {
          "model_module": "@jupyter-widgets/controls",
          "model_name": "HTMLModel",
          "model_module_version": "1.5.0",
          "state": {
            "_dom_classes": [],
            "_model_module": "@jupyter-widgets/controls",
            "_model_module_version": "1.5.0",
            "_model_name": "HTMLModel",
            "_view_count": null,
            "_view_module": "@jupyter-widgets/controls",
            "_view_module_version": "1.5.0",
            "_view_name": "HTMLView",
            "description": "",
            "description_tooltip": null,
            "layout": "IPY_MODEL_7be163919f1d40acac07a11aead0a3fe",
            "placeholder": "​",
            "style": "IPY_MODEL_183f714564414cec9de6679765c5574c",
            "value": "generation_config.json: 100%"
          }
        },
        "b7da9e4b949041669f69bc281ddcd1ce": {
          "model_module": "@jupyter-widgets/controls",
          "model_name": "FloatProgressModel",
          "model_module_version": "1.5.0",
          "state": {
            "_dom_classes": [],
            "_model_module": "@jupyter-widgets/controls",
            "_model_module_version": "1.5.0",
            "_model_name": "FloatProgressModel",
            "_view_count": null,
            "_view_module": "@jupyter-widgets/controls",
            "_view_module_version": "1.5.0",
            "_view_name": "ProgressView",
            "bar_style": "success",
            "description": "",
            "description_tooltip": null,
            "layout": "IPY_MODEL_3023601a5a2543d7b2decdc320c61361",
            "max": 293,
            "min": 0,
            "orientation": "horizontal",
            "style": "IPY_MODEL_b99a94045d0645f78260f440ddf49585",
            "value": 293
          }
        },
        "d0e5235719174fc8b62bf54b4a5b8f86": {
          "model_module": "@jupyter-widgets/controls",
          "model_name": "HTMLModel",
          "model_module_version": "1.5.0",
          "state": {
            "_dom_classes": [],
            "_model_module": "@jupyter-widgets/controls",
            "_model_module_version": "1.5.0",
            "_model_name": "HTMLModel",
            "_view_count": null,
            "_view_module": "@jupyter-widgets/controls",
            "_view_module_version": "1.5.0",
            "_view_name": "HTMLView",
            "description": "",
            "description_tooltip": null,
            "layout": "IPY_MODEL_d94f64f5ffaa477d85d893f24ee9f68b",
            "placeholder": "​",
            "style": "IPY_MODEL_bcb61e71eb884385974f4a3c41c7668b",
            "value": " 293/293 [00:00&lt;00:00, 9.82kB/s]"
          }
        },
        "c0ddf7d961ff40958cfb4c910b8fda4d": {
          "model_module": "@jupyter-widgets/base",
          "model_name": "LayoutModel",
          "model_module_version": "1.2.0",
          "state": {
            "_model_module": "@jupyter-widgets/base",
            "_model_module_version": "1.2.0",
            "_model_name": "LayoutModel",
            "_view_count": null,
            "_view_module": "@jupyter-widgets/base",
            "_view_module_version": "1.2.0",
            "_view_name": "LayoutView",
            "align_content": null,
            "align_items": null,
            "align_self": null,
            "border": null,
            "bottom": null,
            "display": null,
            "flex": null,
            "flex_flow": null,
            "grid_area": null,
            "grid_auto_columns": null,
            "grid_auto_flow": null,
            "grid_auto_rows": null,
            "grid_column": null,
            "grid_gap": null,
            "grid_row": null,
            "grid_template_areas": null,
            "grid_template_columns": null,
            "grid_template_rows": null,
            "height": null,
            "justify_content": null,
            "justify_items": null,
            "left": null,
            "margin": null,
            "max_height": null,
            "max_width": null,
            "min_height": null,
            "min_width": null,
            "object_fit": null,
            "object_position": null,
            "order": null,
            "overflow": null,
            "overflow_x": null,
            "overflow_y": null,
            "padding": null,
            "right": null,
            "top": null,
            "visibility": null,
            "width": null
          }
        },
        "7be163919f1d40acac07a11aead0a3fe": {
          "model_module": "@jupyter-widgets/base",
          "model_name": "LayoutModel",
          "model_module_version": "1.2.0",
          "state": {
            "_model_module": "@jupyter-widgets/base",
            "_model_module_version": "1.2.0",
            "_model_name": "LayoutModel",
            "_view_count": null,
            "_view_module": "@jupyter-widgets/base",
            "_view_module_version": "1.2.0",
            "_view_name": "LayoutView",
            "align_content": null,
            "align_items": null,
            "align_self": null,
            "border": null,
            "bottom": null,
            "display": null,
            "flex": null,
            "flex_flow": null,
            "grid_area": null,
            "grid_auto_columns": null,
            "grid_auto_flow": null,
            "grid_auto_rows": null,
            "grid_column": null,
            "grid_gap": null,
            "grid_row": null,
            "grid_template_areas": null,
            "grid_template_columns": null,
            "grid_template_rows": null,
            "height": null,
            "justify_content": null,
            "justify_items": null,
            "left": null,
            "margin": null,
            "max_height": null,
            "max_width": null,
            "min_height": null,
            "min_width": null,
            "object_fit": null,
            "object_position": null,
            "order": null,
            "overflow": null,
            "overflow_x": null,
            "overflow_y": null,
            "padding": null,
            "right": null,
            "top": null,
            "visibility": null,
            "width": null
          }
        },
        "183f714564414cec9de6679765c5574c": {
          "model_module": "@jupyter-widgets/controls",
          "model_name": "DescriptionStyleModel",
          "model_module_version": "1.5.0",
          "state": {
            "_model_module": "@jupyter-widgets/controls",
            "_model_module_version": "1.5.0",
            "_model_name": "DescriptionStyleModel",
            "_view_count": null,
            "_view_module": "@jupyter-widgets/base",
            "_view_module_version": "1.2.0",
            "_view_name": "StyleView",
            "description_width": ""
          }
        },
        "3023601a5a2543d7b2decdc320c61361": {
          "model_module": "@jupyter-widgets/base",
          "model_name": "LayoutModel",
          "model_module_version": "1.2.0",
          "state": {
            "_model_module": "@jupyter-widgets/base",
            "_model_module_version": "1.2.0",
            "_model_name": "LayoutModel",
            "_view_count": null,
            "_view_module": "@jupyter-widgets/base",
            "_view_module_version": "1.2.0",
            "_view_name": "LayoutView",
            "align_content": null,
            "align_items": null,
            "align_self": null,
            "border": null,
            "bottom": null,
            "display": null,
            "flex": null,
            "flex_flow": null,
            "grid_area": null,
            "grid_auto_columns": null,
            "grid_auto_flow": null,
            "grid_auto_rows": null,
            "grid_column": null,
            "grid_gap": null,
            "grid_row": null,
            "grid_template_areas": null,
            "grid_template_columns": null,
            "grid_template_rows": null,
            "height": null,
            "justify_content": null,
            "justify_items": null,
            "left": null,
            "margin": null,
            "max_height": null,
            "max_width": null,
            "min_height": null,
            "min_width": null,
            "object_fit": null,
            "object_position": null,
            "order": null,
            "overflow": null,
            "overflow_x": null,
            "overflow_y": null,
            "padding": null,
            "right": null,
            "top": null,
            "visibility": null,
            "width": null
          }
        },
        "b99a94045d0645f78260f440ddf49585": {
          "model_module": "@jupyter-widgets/controls",
          "model_name": "ProgressStyleModel",
          "model_module_version": "1.5.0",
          "state": {
            "_model_module": "@jupyter-widgets/controls",
            "_model_module_version": "1.5.0",
            "_model_name": "ProgressStyleModel",
            "_view_count": null,
            "_view_module": "@jupyter-widgets/base",
            "_view_module_version": "1.2.0",
            "_view_name": "StyleView",
            "bar_color": null,
            "description_width": ""
          }
        },
        "d94f64f5ffaa477d85d893f24ee9f68b": {
          "model_module": "@jupyter-widgets/base",
          "model_name": "LayoutModel",
          "model_module_version": "1.2.0",
          "state": {
            "_model_module": "@jupyter-widgets/base",
            "_model_module_version": "1.2.0",
            "_model_name": "LayoutModel",
            "_view_count": null,
            "_view_module": "@jupyter-widgets/base",
            "_view_module_version": "1.2.0",
            "_view_name": "LayoutView",
            "align_content": null,
            "align_items": null,
            "align_self": null,
            "border": null,
            "bottom": null,
            "display": null,
            "flex": null,
            "flex_flow": null,
            "grid_area": null,
            "grid_auto_columns": null,
            "grid_auto_flow": null,
            "grid_auto_rows": null,
            "grid_column": null,
            "grid_gap": null,
            "grid_row": null,
            "grid_template_areas": null,
            "grid_template_columns": null,
            "grid_template_rows": null,
            "height": null,
            "justify_content": null,
            "justify_items": null,
            "left": null,
            "margin": null,
            "max_height": null,
            "max_width": null,
            "min_height": null,
            "min_width": null,
            "object_fit": null,
            "object_position": null,
            "order": null,
            "overflow": null,
            "overflow_x": null,
            "overflow_y": null,
            "padding": null,
            "right": null,
            "top": null,
            "visibility": null,
            "width": null
          }
        },
        "bcb61e71eb884385974f4a3c41c7668b": {
          "model_module": "@jupyter-widgets/controls",
          "model_name": "DescriptionStyleModel",
          "model_module_version": "1.5.0",
          "state": {
            "_model_module": "@jupyter-widgets/controls",
            "_model_module_version": "1.5.0",
            "_model_name": "DescriptionStyleModel",
            "_view_count": null,
            "_view_module": "@jupyter-widgets/base",
            "_view_module_version": "1.2.0",
            "_view_name": "StyleView",
            "description_width": ""
          }
        },
        "6708fb7361a64c20bf4ed5531dfce814": {
          "model_module": "@jupyter-widgets/controls",
          "model_name": "TextModel",
          "model_module_version": "1.5.0",
          "state": {
            "_dom_classes": [],
            "_model_module": "@jupyter-widgets/controls",
            "_model_module_version": "1.5.0",
            "_model_name": "TextModel",
            "_view_count": null,
            "_view_module": "@jupyter-widgets/controls",
            "_view_module_version": "1.5.0",
            "_view_name": "TextView",
            "continuous_update": true,
            "description": "",
            "description_tooltip": null,
            "disabled": false,
            "layout": "IPY_MODEL_021bc286fae34fbdb6dfb15af16ecfea",
            "placeholder": "Enter English text",
            "style": "IPY_MODEL_321bdb7a21ae455ea0d2070645dcc7ee",
            "value": "we are proud"
          }
        },
        "021bc286fae34fbdb6dfb15af16ecfea": {
          "model_module": "@jupyter-widgets/base",
          "model_name": "LayoutModel",
          "model_module_version": "1.2.0",
          "state": {
            "_model_module": "@jupyter-widgets/base",
            "_model_module_version": "1.2.0",
            "_model_name": "LayoutModel",
            "_view_count": null,
            "_view_module": "@jupyter-widgets/base",
            "_view_module_version": "1.2.0",
            "_view_name": "LayoutView",
            "align_content": null,
            "align_items": null,
            "align_self": null,
            "border": null,
            "bottom": null,
            "display": null,
            "flex": null,
            "flex_flow": null,
            "grid_area": null,
            "grid_auto_columns": null,
            "grid_auto_flow": null,
            "grid_auto_rows": null,
            "grid_column": null,
            "grid_gap": null,
            "grid_row": null,
            "grid_template_areas": null,
            "grid_template_columns": null,
            "grid_template_rows": null,
            "height": null,
            "justify_content": null,
            "justify_items": null,
            "left": null,
            "margin": null,
            "max_height": null,
            "max_width": null,
            "min_height": null,
            "min_width": null,
            "object_fit": null,
            "object_position": null,
            "order": null,
            "overflow": null,
            "overflow_x": null,
            "overflow_y": null,
            "padding": null,
            "right": null,
            "top": null,
            "visibility": null,
            "width": null
          }
        },
        "321bdb7a21ae455ea0d2070645dcc7ee": {
          "model_module": "@jupyter-widgets/controls",
          "model_name": "DescriptionStyleModel",
          "model_module_version": "1.5.0",
          "state": {
            "_model_module": "@jupyter-widgets/controls",
            "_model_module_version": "1.5.0",
            "_model_name": "DescriptionStyleModel",
            "_view_count": null,
            "_view_module": "@jupyter-widgets/base",
            "_view_module_version": "1.2.0",
            "_view_name": "StyleView",
            "description_width": ""
          }
        },
        "cf94404ad9f648ed9a510a8381e5be9b": {
          "model_module": "@jupyter-widgets/controls",
          "model_name": "ButtonModel",
          "model_module_version": "1.5.0",
          "state": {
            "_dom_classes": [],
            "_model_module": "@jupyter-widgets/controls",
            "_model_module_version": "1.5.0",
            "_model_name": "ButtonModel",
            "_view_count": null,
            "_view_module": "@jupyter-widgets/controls",
            "_view_module_version": "1.5.0",
            "_view_name": "ButtonView",
            "button_style": "",
            "description": "Translate",
            "disabled": false,
            "icon": "",
            "layout": "IPY_MODEL_f2cd93f0c81c4d638b47214c25dbf483",
            "style": "IPY_MODEL_554a8c057968409d9f2b03ed9e8cd62d",
            "tooltip": ""
          }
        },
        "f2cd93f0c81c4d638b47214c25dbf483": {
          "model_module": "@jupyter-widgets/base",
          "model_name": "LayoutModel",
          "model_module_version": "1.2.0",
          "state": {
            "_model_module": "@jupyter-widgets/base",
            "_model_module_version": "1.2.0",
            "_model_name": "LayoutModel",
            "_view_count": null,
            "_view_module": "@jupyter-widgets/base",
            "_view_module_version": "1.2.0",
            "_view_name": "LayoutView",
            "align_content": null,
            "align_items": null,
            "align_self": null,
            "border": null,
            "bottom": null,
            "display": null,
            "flex": null,
            "flex_flow": null,
            "grid_area": null,
            "grid_auto_columns": null,
            "grid_auto_flow": null,
            "grid_auto_rows": null,
            "grid_column": null,
            "grid_gap": null,
            "grid_row": null,
            "grid_template_areas": null,
            "grid_template_columns": null,
            "grid_template_rows": null,
            "height": null,
            "justify_content": null,
            "justify_items": null,
            "left": null,
            "margin": null,
            "max_height": null,
            "max_width": null,
            "min_height": null,
            "min_width": null,
            "object_fit": null,
            "object_position": null,
            "order": null,
            "overflow": null,
            "overflow_x": null,
            "overflow_y": null,
            "padding": null,
            "right": null,
            "top": null,
            "visibility": null,
            "width": null
          }
        },
        "554a8c057968409d9f2b03ed9e8cd62d": {
          "model_module": "@jupyter-widgets/controls",
          "model_name": "ButtonStyleModel",
          "model_module_version": "1.5.0",
          "state": {
            "_model_module": "@jupyter-widgets/controls",
            "_model_module_version": "1.5.0",
            "_model_name": "ButtonStyleModel",
            "_view_count": null,
            "_view_module": "@jupyter-widgets/base",
            "_view_module_version": "1.2.0",
            "_view_name": "StyleView",
            "button_color": null,
            "font_weight": ""
          }
        }
      }
    }
  },
  "cells": [
    {
      "cell_type": "code",
      "source": [
        "!pip install datasets transformers[sentencepiece] sacrebleu -q"
      ],
      "metadata": {
        "id": "JL1RQ5RG8Z83"
      },
      "execution_count": 8,
      "outputs": []
    },
    {
      "cell_type": "code",
      "source": [
        "import os\n",
        "import sys\n",
        "import transformers\n",
        "import tensorflow as tf\n",
        "from datasets import load_dataset\n",
        "from transformers import AutoTokenizer\n",
        "from transformers import TFAutoModelForSeq2SeqLM, DataCollatorForSeq2Seq\n",
        "from transformers import AdamWeightDecay\n",
        "from transformers import AutoTokenizer, TFAutoModelForSeq2SeqLM"
      ],
      "metadata": {
        "id": "SS8OhmJb8lF6"
      },
      "execution_count": 9,
      "outputs": []
    },
    {
      "cell_type": "code",
      "source": [
        "model_checkpoint = \"Helsinki-NLP/opus-mt-en-hi\""
      ],
      "metadata": {
        "id": "xp2BXUjn8nlZ"
      },
      "execution_count": 10,
      "outputs": []
    },
    {
      "cell_type": "code",
      "source": [
        "raw_datasets = load_dataset(\"cfilt/iitb-english-hindi\")"
      ],
      "metadata": {
        "id": "t9OGoUvz88Xb"
      },
      "execution_count": 11,
      "outputs": []
    },
    {
      "cell_type": "code",
      "source": [
        "raw_datasets"
      ],
      "metadata": {
        "colab": {
          "base_uri": "https://localhost:8080/"
        },
        "id": "22WzfN0F9Be7",
        "outputId": "7f667e89-f8cc-42a3-cd0c-954633c205f9"
      },
      "execution_count": 12,
      "outputs": [
        {
          "output_type": "execute_result",
          "data": {
            "text/plain": [
              "DatasetDict({\n",
              "    train: Dataset({\n",
              "        features: ['translation'],\n",
              "        num_rows: 1659083\n",
              "    })\n",
              "    validation: Dataset({\n",
              "        features: ['translation'],\n",
              "        num_rows: 520\n",
              "    })\n",
              "    test: Dataset({\n",
              "        features: ['translation'],\n",
              "        num_rows: 2507\n",
              "    })\n",
              "})"
            ]
          },
          "metadata": {},
          "execution_count": 12
        }
      ]
    },
    {
      "cell_type": "code",
      "source": [
        "raw_datasets['train'][1]"
      ],
      "metadata": {
        "colab": {
          "base_uri": "https://localhost:8080/"
        },
        "id": "zJe2bevu9Jh2",
        "outputId": "bf7ae6d1-1cdc-4c66-b6aa-562aeac56e6f"
      },
      "execution_count": 13,
      "outputs": [
        {
          "output_type": "execute_result",
          "data": {
            "text/plain": [
              "{'translation': {'en': 'Accerciser Accessibility Explorer',\n",
              "  'hi': 'एक्सेर्साइसर पहुंचनीयता अन्वेषक'}}"
            ]
          },
          "metadata": {},
          "execution_count": 13
        }
      ]
    },
    {
      "cell_type": "code",
      "source": [
        "tokenizer = AutoTokenizer.from_pretrained(model_checkpoint)"
      ],
      "metadata": {
        "colab": {
          "base_uri": "https://localhost:8080/",
          "height": 212,
          "referenced_widgets": [
            "aded945ce9ef492b82ee7f2581dfb157",
            "3dafbbb31fb94f3697bdcb42515bebd3",
            "22d5ecbd377d4b128565a6b268d65632",
            "65d889c2f57f4fbab3a1f5e014247b30",
            "6857001861b747419621c9a3ec2fdae2",
            "47bafeef017b491188082142c5a0b21a",
            "1827b99dc3314149bf43be1b53a3c8b0",
            "4bc7f5dd84974fd7a90526cd20733dc3",
            "ef996c9dc0d243669916e2cefe9b998a",
            "d42fe1b7ca9b450f8a6b5f3827f33358",
            "ee848bbaa9a04a458060b6aa3fa379f3",
            "a1b77b0433654d5da894bbdc60570de4",
            "f7f6703c105e43ab8a8b84c24040e80d",
            "3ee90fddc49e4c5c8b72cccf0ace9cab",
            "29b480a81b824e479ffbc0bf5e3010cf",
            "5adc2d4b438340e28687f2a30693d6f4",
            "e909b9425367460ca0fc92157dcfc95a",
            "83e7d606a4984c24ab2884afe1485e70",
            "517ba800664c4070a45e80b6f0ec18bb",
            "28b6724ee0bb48c1bb09e748bb18cdf2",
            "b41fb43e54bb48fa8b225199ee56f9f0",
            "18dd37cb3f684248bfdc7a89704b3164",
            "67a97b422f114ab79fb801d253ecd4e9",
            "223b250bc57a4a41a5019baabaae7927",
            "062a3b77aa3f43569ae0f72857c5ecbc",
            "7565b2079c594483bf396bdab8f599f5",
            "cb8d71270b3b4902b70a33f4acb52163",
            "3b67a934b2c94904899364c3b81057fd",
            "db49c6847db0412bacdd089f2c75c024",
            "c5fbaa43f5414f549fba6d7afc8c6cb1",
            "3870cd5c91e14b568879a998f112c63a",
            "a999ec5ec08b478ca786717da64ce6a1",
            "082261716969475d87abe8adfd5f6f1d",
            "9b21b241026a4ea2afd3c7891d7f05d2",
            "a9fb62ed66e544febd81883999563c63",
            "7eba1dab4a5540e59cff4443a2b6fc68",
            "4be1defae23244448c2906173c9f419c",
            "8d54faeb8b3244b6b73648fc6a926886",
            "cba5d18ed718431e822219b6328e7db6",
            "8110067da5cf4842a3b6c16c21b83727",
            "d6ac9658901a4139893dfd3ce3ef1c39",
            "15158e2e8dca4cf3983e2ba97f7efdcd",
            "a61743d19fa340028621fecaf7d8b8fa",
            "f710d771b30942399129f47676af7975",
            "6e6a2ac248764047962fa188f87ba975",
            "58c6d1e74b9446dfb126eebe74e78a90",
            "0cdbd56a87974f7980a56b8905db9157",
            "a14c0a5008d54353bce337187bdf331a",
            "02e10871e6854d91807ba2aa372b44c6",
            "99efe5f8eea242638f078312b645cfa7",
            "5d7fef429fe54d46a938593c7a61abab",
            "1614e3b4a3a24002bebd9aa743f5d23c",
            "10a0d88595f54267a586a083ea7e0b21",
            "ec90925cc9cb4068a9cd9d5a7c5dd539",
            "ea295d4b6de2468b9f04b40e70e1a9c7"
          ]
        },
        "id": "hIOK0P1Z9PEi",
        "outputId": "6c35d812-40b5-48cf-8944-462a10bac651"
      },
      "execution_count": 14,
      "outputs": [
        {
          "output_type": "display_data",
          "data": {
            "text/plain": [
              "tokenizer_config.json:   0%|          | 0.00/44.0 [00:00<?, ?B/s]"
            ],
            "application/vnd.jupyter.widget-view+json": {
              "version_major": 2,
              "version_minor": 0,
              "model_id": "aded945ce9ef492b82ee7f2581dfb157"
            }
          },
          "metadata": {}
        },
        {
          "output_type": "display_data",
          "data": {
            "text/plain": [
              "config.json:   0%|          | 0.00/1.39k [00:00<?, ?B/s]"
            ],
            "application/vnd.jupyter.widget-view+json": {
              "version_major": 2,
              "version_minor": 0,
              "model_id": "a1b77b0433654d5da894bbdc60570de4"
            }
          },
          "metadata": {}
        },
        {
          "output_type": "display_data",
          "data": {
            "text/plain": [
              "source.spm:   0%|          | 0.00/812k [00:00<?, ?B/s]"
            ],
            "application/vnd.jupyter.widget-view+json": {
              "version_major": 2,
              "version_minor": 0,
              "model_id": "67a97b422f114ab79fb801d253ecd4e9"
            }
          },
          "metadata": {}
        },
        {
          "output_type": "display_data",
          "data": {
            "text/plain": [
              "target.spm:   0%|          | 0.00/1.07M [00:00<?, ?B/s]"
            ],
            "application/vnd.jupyter.widget-view+json": {
              "version_major": 2,
              "version_minor": 0,
              "model_id": "9b21b241026a4ea2afd3c7891d7f05d2"
            }
          },
          "metadata": {}
        },
        {
          "output_type": "display_data",
          "data": {
            "text/plain": [
              "vocab.json:   0%|          | 0.00/2.10M [00:00<?, ?B/s]"
            ],
            "application/vnd.jupyter.widget-view+json": {
              "version_major": 2,
              "version_minor": 0,
              "model_id": "6e6a2ac248764047962fa188f87ba975"
            }
          },
          "metadata": {}
        },
        {
          "output_type": "stream",
          "name": "stderr",
          "text": [
            "/usr/local/lib/python3.10/dist-packages/transformers/models/marian/tokenization_marian.py:197: UserWarning: Recommended: pip install sacremoses.\n",
            "  warnings.warn(\"Recommended: pip install sacremoses.\")\n"
          ]
        }
      ]
    },
    {
      "cell_type": "code",
      "source": [
        "tokenizer(\"Hello, this is a sentence!\")"
      ],
      "metadata": {
        "colab": {
          "base_uri": "https://localhost:8080/"
        },
        "id": "NGt-I2Zf9Z7F",
        "outputId": "487c21ea-a86d-4905-a170-5533928d4760"
      },
      "execution_count": 15,
      "outputs": [
        {
          "output_type": "execute_result",
          "data": {
            "text/plain": [
              "{'input_ids': [12110, 2, 90, 23, 19, 8800, 61, 0], 'attention_mask': [1, 1, 1, 1, 1, 1, 1, 1]}"
            ]
          },
          "metadata": {},
          "execution_count": 15
        }
      ]
    },
    {
      "cell_type": "code",
      "source": [
        "tokenizer([\"Hello, this is a sentence!\", \"This is another sentence.\"])"
      ],
      "metadata": {
        "colab": {
          "base_uri": "https://localhost:8080/"
        },
        "id": "2-o61N5a9dA6",
        "outputId": "b4def8fb-1d71-4f83-f1bd-2bbea20f62d6"
      },
      "execution_count": 16,
      "outputs": [
        {
          "output_type": "execute_result",
          "data": {
            "text/plain": [
              "{'input_ids': [[12110, 2, 90, 23, 19, 8800, 61, 0], [239, 23, 414, 8800, 3, 0]], 'attention_mask': [[1, 1, 1, 1, 1, 1, 1, 1], [1, 1, 1, 1, 1, 1]]}"
            ]
          },
          "metadata": {},
          "execution_count": 16
        }
      ]
    },
    {
      "cell_type": "code",
      "source": [
        "with tokenizer.as_target_tokenizer():\n",
        "    print(tokenizer([\"एक्सेर्साइसर पहुंचनीयता अन्वेषक\"]))"
      ],
      "metadata": {
        "colab": {
          "base_uri": "https://localhost:8080/"
        },
        "id": "rzjxPmiI9iIL",
        "outputId": "c20f99d3-d993-424b-9c33-95ff2dd3d0dc"
      },
      "execution_count": 17,
      "outputs": [
        {
          "output_type": "stream",
          "name": "stdout",
          "text": [
            "{'input_ids': [[26618, 16155, 346, 33383, 0]], 'attention_mask': [[1, 1, 1, 1, 1]]}\n"
          ]
        },
        {
          "output_type": "stream",
          "name": "stderr",
          "text": [
            "/usr/local/lib/python3.10/dist-packages/transformers/tokenization_utils_base.py:3892: UserWarning: `as_target_tokenizer` is deprecated and will be removed in v5 of Transformers. You can tokenize your labels by using the argument `text_target` of the regular `__call__` method (either in the same call as your input texts if you use the same keyword arguments, or in a separate call.\n",
            "  warnings.warn(\n"
          ]
        }
      ]
    },
    {
      "cell_type": "code",
      "source": [
        "max_input_length = 128\n",
        "max_target_length = 128\n",
        "\n",
        "source_lang = \"en\"\n",
        "target_lang = \"hi\"\n",
        "\n",
        "\n",
        "def preprocess_function(examples):\n",
        "    inputs = [ex[source_lang] for ex in examples[\"translation\"]]\n",
        "    targets = [ex[target_lang] for ex in examples[\"translation\"]]\n",
        "    model_inputs = tokenizer(inputs, max_length=max_input_length, truncation=True)\n",
        "\n",
        "    # Setup the tokenizer for targets\n",
        "    with tokenizer.as_target_tokenizer():\n",
        "        labels = tokenizer(targets, max_length=max_target_length, truncation=True)\n",
        "\n",
        "    model_inputs[\"labels\"] = labels[\"input_ids\"]\n",
        "    return model_inputs"
      ],
      "metadata": {
        "id": "Exypk7X39jWg"
      },
      "execution_count": 18,
      "outputs": []
    },
    {
      "cell_type": "code",
      "source": [
        "preprocess_function(raw_datasets[\"train\"][:2])"
      ],
      "metadata": {
        "colab": {
          "base_uri": "https://localhost:8080/"
        },
        "id": "PfSiJuIL9qJS",
        "outputId": "8c98e45a-dca0-4247-92c1-4443dae849d0"
      },
      "execution_count": 19,
      "outputs": [
        {
          "output_type": "execute_result",
          "data": {
            "text/plain": [
              "{'input_ids': [[3872, 85, 2501, 132, 15441, 36398, 0], [32643, 28541, 36253, 0]], 'attention_mask': [[1, 1, 1, 1, 1, 1, 1], [1, 1, 1, 1]], 'labels': [[63, 2025, 18, 16155, 346, 20311, 24, 2279, 679, 0], [26618, 16155, 346, 33383, 0]]}"
            ]
          },
          "metadata": {},
          "execution_count": 19
        }
      ]
    },
    {
      "cell_type": "code",
      "source": [
        "tokenized_datasets = raw_datasets.map(preprocess_function, batched=True)"
      ],
      "metadata": {
        "colab": {
          "base_uri": "https://localhost:8080/",
          "height": 113,
          "referenced_widgets": [
            "bac885f3c4dc47ffb49af804478a4fe1",
            "e50cee3a9bdf4353a32118fb68335e51",
            "57c7877fc0474a47a76dd11dd47c896f",
            "d6328767dbbf4c65a0ba2eb52be49c77",
            "d6664cad15914035b60a648370822ba9",
            "e31b3be361724d1380ceca7f0894102b",
            "69c53cf80151492fa39aa60d08d78721",
            "b3cb6c42a71349e8bbd680193b418c23",
            "30add5bf729b407c9abe1e6ca9be5340",
            "9437062c4c1e4cddb00f0cc42cdc9f32",
            "5e34a08fc749422d9ceeb8ebdde02f13",
            "aa37ec15348c4e1897a171607ae86133",
            "5775454d32ac4454867283fabd5e31da",
            "34a6dfe43e74401093fea49c3c66977d",
            "5aac80261dec45e98afdb1742168a02c",
            "1a9c634e184a482bb1d0cb3b0492d6db",
            "dad1f80a27a3499eae54357b99c991ec",
            "83b3e1cb370e460d834948a2c345dd94",
            "037e790cf1594917a2d29ec121ac7e3d",
            "b8c16f629e224e1b8d9c8a68d92b5dd4",
            "2a9e0bf44dec41d2862a6076aca06946",
            "7a5d90cdb060483786c900821f90ebaa",
            "95fa7e46842541b3a73ced675d9cb8a8",
            "2661fcacafb6461ca163fe4de4a807ba",
            "111c469953cc446aa89534b68381e5c8",
            "c4383fc3b0a34edfa73831956753e148",
            "7860fbec94014a1abde8bbf957eac616",
            "108761b26ad14c648957099202b3305d",
            "18cd59727df44bbdbaf1032dead3c49e",
            "1efcd3cb821c4044b5f7b1fe1d03dd96",
            "bfddea4d14b44a3abf8934a2e4fce125",
            "0249604c438c4e1cb5fd1d43d5dfcd8e",
            "80115d92ecd44f1dacc652a5bf06959e"
          ]
        },
        "id": "TgAbTAPi9s0K",
        "outputId": "5f721b37-35fd-43f6-f42b-cb1cc49c1d82"
      },
      "execution_count": 20,
      "outputs": [
        {
          "output_type": "display_data",
          "data": {
            "text/plain": [
              "Map:   0%|          | 0/1659083 [00:00<?, ? examples/s]"
            ],
            "application/vnd.jupyter.widget-view+json": {
              "version_major": 2,
              "version_minor": 0,
              "model_id": "bac885f3c4dc47ffb49af804478a4fe1"
            }
          },
          "metadata": {}
        },
        {
          "output_type": "display_data",
          "data": {
            "text/plain": [
              "Map:   0%|          | 0/520 [00:00<?, ? examples/s]"
            ],
            "application/vnd.jupyter.widget-view+json": {
              "version_major": 2,
              "version_minor": 0,
              "model_id": "aa37ec15348c4e1897a171607ae86133"
            }
          },
          "metadata": {}
        },
        {
          "output_type": "display_data",
          "data": {
            "text/plain": [
              "Map:   0%|          | 0/2507 [00:00<?, ? examples/s]"
            ],
            "application/vnd.jupyter.widget-view+json": {
              "version_major": 2,
              "version_minor": 0,
              "model_id": "95fa7e46842541b3a73ced675d9cb8a8"
            }
          },
          "metadata": {}
        }
      ]
    },
    {
      "cell_type": "code",
      "source": [
        "model = TFAutoModelForSeq2SeqLM.from_pretrained(model_checkpoint)"
      ],
      "metadata": {
        "colab": {
          "base_uri": "https://localhost:8080/",
          "height": 170,
          "referenced_widgets": [
            "077c278e411f4aa1adc6555c812967dc",
            "dba3728a5075428992718b261f1ae225",
            "94428a745fd846ff8741f8802cc5bd35",
            "645aa898b52f4e52bf8d39f9ae0b1a39",
            "f1d38800e6a445c6b204e8882296e761",
            "9f06c007574e4acaabcf97a3c8c50fd6",
            "fdcca8ad5c6044e7b2790e4a375fa6a2",
            "b828066b5ea64377a73aeb6cff11a8de",
            "b644eea3f1ff493795eb5dd10b7229e7",
            "36fb31a14f8c4ab98a0dbdfdc2cd4548",
            "821fb0f6534349ecbf8405bf8d8cbbc5",
            "8e8beb71863443c1a9e1a56f136437ee",
            "d5a28ee39f2042279d325d926393d185",
            "b7da9e4b949041669f69bc281ddcd1ce",
            "d0e5235719174fc8b62bf54b4a5b8f86",
            "c0ddf7d961ff40958cfb4c910b8fda4d",
            "7be163919f1d40acac07a11aead0a3fe",
            "183f714564414cec9de6679765c5574c",
            "3023601a5a2543d7b2decdc320c61361",
            "b99a94045d0645f78260f440ddf49585",
            "d94f64f5ffaa477d85d893f24ee9f68b",
            "bcb61e71eb884385974f4a3c41c7668b"
          ]
        },
        "id": "cTcK7o8i_HTh",
        "outputId": "b511280a-6769-44b5-9442-638be068436f"
      },
      "execution_count": 21,
      "outputs": [
        {
          "output_type": "display_data",
          "data": {
            "text/plain": [
              "tf_model.h5:   0%|          | 0.00/306M [00:00<?, ?B/s]"
            ],
            "application/vnd.jupyter.widget-view+json": {
              "version_major": 2,
              "version_minor": 0,
              "model_id": "077c278e411f4aa1adc6555c812967dc"
            }
          },
          "metadata": {}
        },
        {
          "output_type": "stream",
          "name": "stderr",
          "text": [
            "All model checkpoint layers were used when initializing TFMarianMTModel.\n",
            "\n",
            "All the layers of TFMarianMTModel were initialized from the model checkpoint at Helsinki-NLP/opus-mt-en-hi.\n",
            "If your task is similar to the task the model of the checkpoint was trained on, you can already use TFMarianMTModel for predictions without further training.\n"
          ]
        },
        {
          "output_type": "display_data",
          "data": {
            "text/plain": [
              "generation_config.json:   0%|          | 0.00/293 [00:00<?, ?B/s]"
            ],
            "application/vnd.jupyter.widget-view+json": {
              "version_major": 2,
              "version_minor": 0,
              "model_id": "8e8beb71863443c1a9e1a56f136437ee"
            }
          },
          "metadata": {}
        }
      ]
    },
    {
      "cell_type": "code",
      "source": [
        "batch_size = 16\n",
        "learning_rate = 2e-5\n",
        "weight_decay = 0.01\n",
        "num_train_epochs = 1"
      ],
      "metadata": {
        "id": "pkbP2dSs_IE3"
      },
      "execution_count": 22,
      "outputs": []
    },
    {
      "cell_type": "code",
      "source": [
        "data_collator = DataCollatorForSeq2Seq(tokenizer, model=model, return_tensors=\"tf\")"
      ],
      "metadata": {
        "id": "H-KCdXLr_Elh"
      },
      "execution_count": 23,
      "outputs": []
    },
    {
      "cell_type": "code",
      "source": [
        "generation_data_collator = DataCollatorForSeq2Seq(tokenizer, model=model, return_tensors=\"tf\", pad_to_multiple_of=128)"
      ],
      "metadata": {
        "id": "AAIlvF63_Nhw"
      },
      "execution_count": 24,
      "outputs": []
    },
    {
      "cell_type": "code",
      "source": [
        "train_dataset = model.prepare_tf_dataset(\n",
        "    tokenized_datasets[\"test\"],\n",
        "    batch_size=batch_size,\n",
        "    shuffle=True,\n",
        "    collate_fn=data_collator,\n",
        ")"
      ],
      "metadata": {
        "id": "6qDh16cQ_QvM"
      },
      "execution_count": 25,
      "outputs": []
    },
    {
      "cell_type": "code",
      "source": [
        "validation_dataset = model.prepare_tf_dataset(\n",
        "    tokenized_datasets[\"validation\"],\n",
        "    batch_size=batch_size,\n",
        "    shuffle=False,\n",
        "    collate_fn=data_collator,\n",
        ")"
      ],
      "metadata": {
        "id": "ZeYXmYdN_Soe"
      },
      "execution_count": 26,
      "outputs": []
    },
    {
      "cell_type": "code",
      "source": [
        "generation_dataset = model.prepare_tf_dataset(\n",
        "    tokenized_datasets[\"validation\"],\n",
        "    batch_size=8,\n",
        "    shuffle=False,\n",
        "    collate_fn=generation_data_collator,\n",
        ")"
      ],
      "metadata": {
        "id": "VGyYFmSk_TiD"
      },
      "execution_count": 27,
      "outputs": []
    },
    {
      "cell_type": "code",
      "source": [
        "optimizer = AdamWeightDecay(learning_rate=learning_rate, weight_decay_rate=weight_decay)\n",
        "model.compile(optimizer=optimizer)"
      ],
      "metadata": {
        "id": "jAbAEpjj_Vg4"
      },
      "execution_count": 28,
      "outputs": []
    },
    {
      "cell_type": "code",
      "source": [
        "model.fit(train_dataset, validation_data=validation_dataset, epochs=1)"
      ],
      "metadata": {
        "colab": {
          "base_uri": "https://localhost:8080/"
        },
        "id": "L4FcEJo5_Xrz",
        "outputId": "61b840f9-5b35-4408-f410-63482a93d86a"
      },
      "execution_count": 29,
      "outputs": [
        {
          "output_type": "stream",
          "name": "stderr",
          "text": [
            "WARNING:tensorflow:AutoGraph could not transform <function infer_framework at 0x7e6731cacd30> and will run it as-is.\n",
            "Cause: for/else statement not yet supported\n",
            "To silence this warning, decorate the function with @tf.autograph.experimental.do_not_convert\n"
          ]
        },
        {
          "output_type": "stream",
          "name": "stdout",
          "text": [
            "WARNING: AutoGraph could not transform <function infer_framework at 0x7e6731cacd30> and will run it as-is.\n",
            "Cause: for/else statement not yet supported\n",
            "To silence this warning, decorate the function with @tf.autograph.experimental.do_not_convert\n",
            "156/156 [==============================] - 152s 398ms/step - loss: 3.7653 - val_loss: 3.9447\n"
          ]
        },
        {
          "output_type": "execute_result",
          "data": {
            "text/plain": [
              "<tf_keras.src.callbacks.History at 0x7e6650089d20>"
            ]
          },
          "metadata": {},
          "execution_count": 29
        }
      ]
    },
    {
      "cell_type": "code",
      "source": [
        "model.save_pretrained(\"tf_model/\")"
      ],
      "metadata": {
        "colab": {
          "base_uri": "https://localhost:8080/"
        },
        "id": "YWwaQRnm_eM7",
        "outputId": "e33978ce-3158-4157-eef0-9199162dcf0a"
      },
      "execution_count": 30,
      "outputs": [
        {
          "output_type": "stream",
          "name": "stderr",
          "text": [
            "Some non-default generation parameters are set in the model config. These should go into a GenerationConfig file (https://huggingface.co/docs/transformers/generation_strategies#save-a-custom-decoding-strategy-with-your-model) instead. This warning will be raised to an exception in v4.41.\n",
            "Non-default generation parameters: {'max_length': 512, 'num_beams': 4, 'bad_words_ids': [[61949]], 'forced_eos_token_id': 0}\n"
          ]
        }
      ]
    },
    {
      "cell_type": "code",
      "source": [
        "tokenizer = AutoTokenizer.from_pretrained(model_checkpoint)\n",
        "model = TFAutoModelForSeq2SeqLM.from_pretrained(\"tf_model/\")"
      ],
      "metadata": {
        "colab": {
          "base_uri": "https://localhost:8080/"
        },
        "id": "yz528BuOAN-e",
        "outputId": "5e98ffbc-41c5-49cc-8ee0-1e0858733ed2"
      },
      "execution_count": 31,
      "outputs": [
        {
          "output_type": "stream",
          "name": "stderr",
          "text": [
            "/usr/local/lib/python3.10/dist-packages/transformers/models/marian/tokenization_marian.py:197: UserWarning: Recommended: pip install sacremoses.\n",
            "  warnings.warn(\"Recommended: pip install sacremoses.\")\n",
            "All model checkpoint layers were used when initializing TFMarianMTModel.\n",
            "\n",
            "All the layers of TFMarianMTModel were initialized from the model checkpoint at tf_model/.\n",
            "If your task is similar to the task the model of the checkpoint was trained on, you can already use TFMarianMTModel for predictions without further training.\n"
          ]
        }
      ]
    },
    {
      "cell_type": "code",
      "source": [
        "input_text  = \"welcome\"\n",
        "\n",
        "tokenized = tokenizer([input_text], return_tensors='np')\n",
        "out = model.generate(**tokenized, max_length=128)\n",
        "print(out)\n"
      ],
      "metadata": {
        "colab": {
          "base_uri": "https://localhost:8080/"
        },
        "id": "D6uYEsDzATm4",
        "outputId": "2a84cfb4-f7ec-4d66-8556-949b08401ae8"
      },
      "execution_count": 32,
      "outputs": [
        {
          "output_type": "stream",
          "name": "stdout",
          "text": [
            "tf.Tensor([[61949  4201     5     0 61949]], shape=(1, 5), dtype=int32)\n"
          ]
        }
      ]
    },
    {
      "cell_type": "code",
      "source": [
        "with tokenizer.as_target_tokenizer():\n",
        "   text1 = tokenizer.decode(out[0], skip_special_tokens=True)\n",
        "print(text1)\n",
        "\n"
      ],
      "metadata": {
        "colab": {
          "base_uri": "https://localhost:8080/"
        },
        "id": "HaThhZoLAptm",
        "outputId": "0c839b8c-e40d-4aeb-841e-a519f5269fd5"
      },
      "execution_count": 33,
      "outputs": [
        {
          "output_type": "stream",
          "name": "stdout",
          "text": [
            "स्वागत है\n"
          ]
        },
        {
          "output_type": "stream",
          "name": "stderr",
          "text": [
            "/usr/local/lib/python3.10/dist-packages/transformers/tokenization_utils_base.py:3892: UserWarning: `as_target_tokenizer` is deprecated and will be removed in v5 of Transformers. You can tokenize your labels by using the argument `text_target` of the regular `__call__` method (either in the same call as your input texts if you use the same keyword arguments, or in a separate call.\n",
            "  warnings.warn(\n"
          ]
        }
      ]
    },
    {
      "cell_type": "code",
      "source": [
        "pip install gtts playsound\n"
      ],
      "metadata": {
        "colab": {
          "base_uri": "https://localhost:8080/"
        },
        "id": "8Gl6BixsSuw9",
        "outputId": "68153d28-0899-4767-f6ce-cd27655bcb6e"
      },
      "execution_count": 34,
      "outputs": [
        {
          "output_type": "stream",
          "name": "stdout",
          "text": [
            "Collecting gtts\n",
            "  Downloading gTTS-2.5.1-py3-none-any.whl (29 kB)\n",
            "Collecting playsound\n",
            "  Downloading playsound-1.3.0.tar.gz (7.7 kB)\n",
            "  Preparing metadata (setup.py) ... \u001b[?25l\u001b[?25hdone\n",
            "Requirement already satisfied: requests<3,>=2.27 in /usr/local/lib/python3.10/dist-packages (from gtts) (2.31.0)\n",
            "Requirement already satisfied: click<8.2,>=7.1 in /usr/local/lib/python3.10/dist-packages (from gtts) (8.1.7)\n",
            "Requirement already satisfied: charset-normalizer<4,>=2 in /usr/local/lib/python3.10/dist-packages (from requests<3,>=2.27->gtts) (3.3.2)\n",
            "Requirement already satisfied: idna<4,>=2.5 in /usr/local/lib/python3.10/dist-packages (from requests<3,>=2.27->gtts) (3.6)\n",
            "Requirement already satisfied: urllib3<3,>=1.21.1 in /usr/local/lib/python3.10/dist-packages (from requests<3,>=2.27->gtts) (2.0.7)\n",
            "Requirement already satisfied: certifi>=2017.4.17 in /usr/local/lib/python3.10/dist-packages (from requests<3,>=2.27->gtts) (2024.2.2)\n",
            "Building wheels for collected packages: playsound\n",
            "  Building wheel for playsound (setup.py) ... \u001b[?25l\u001b[?25hdone\n",
            "  Created wheel for playsound: filename=playsound-1.3.0-py3-none-any.whl size=7020 sha256=a03e29e968a54663fcc35481e079933bcf73ed34bcdd5e3a4e02fe89f1075ab4\n",
            "  Stored in directory: /root/.cache/pip/wheels/90/89/ed/2d643f4226fc8c7c9156fc28abd8051e2d2c0de37ae51ac45c\n",
            "Successfully built playsound\n",
            "Installing collected packages: playsound, gtts\n",
            "Successfully installed gtts-2.5.1 playsound-1.3.0\n"
          ]
        }
      ]
    },
    {
      "cell_type": "code",
      "source": [
        "pip install gtts"
      ],
      "metadata": {
        "colab": {
          "base_uri": "https://localhost:8080/"
        },
        "id": "MLSsTQ7CTX52",
        "outputId": "74799901-b433-425b-c695-abddf908749b"
      },
      "execution_count": 36,
      "outputs": [
        {
          "output_type": "stream",
          "name": "stdout",
          "text": [
            "Requirement already satisfied: gtts in /usr/local/lib/python3.10/dist-packages (2.5.1)\n",
            "Requirement already satisfied: requests<3,>=2.27 in /usr/local/lib/python3.10/dist-packages (from gtts) (2.31.0)\n",
            "Requirement already satisfied: click<8.2,>=7.1 in /usr/local/lib/python3.10/dist-packages (from gtts) (8.1.7)\n",
            "Requirement already satisfied: charset-normalizer<4,>=2 in /usr/local/lib/python3.10/dist-packages (from requests<3,>=2.27->gtts) (3.3.2)\n",
            "Requirement already satisfied: idna<4,>=2.5 in /usr/local/lib/python3.10/dist-packages (from requests<3,>=2.27->gtts) (3.6)\n",
            "Requirement already satisfied: urllib3<3,>=1.21.1 in /usr/local/lib/python3.10/dist-packages (from requests<3,>=2.27->gtts) (2.0.7)\n",
            "Requirement already satisfied: certifi>=2017.4.17 in /usr/local/lib/python3.10/dist-packages (from requests<3,>=2.27->gtts) (2024.2.2)\n"
          ]
        }
      ]
    },
    {
      "cell_type": "code",
      "source": [
        "import warnings\n",
        "from gtts import gTTS\n",
        "from IPython.display import Audio, display\n",
        "import ipywidgets as widgets\n",
        "\n",
        "# Suppress transformers warnings\n",
        "warnings.filterwarnings(\"ignore\", category=UserWarning)\n",
        "\n",
        "# Function to translate English text to Hindi using your translation model\n",
        "def translate_to_hindi(english_text):\n",
        "    tokenized = tokenizer([english_text], return_tensors='np')\n",
        "    out = model.generate(**tokenized, max_length=128)\n",
        "    with tokenizer.as_target_tokenizer():\n",
        "        text1 = tokenizer.decode(out[0], skip_special_tokens=True)\n",
        "    hindi_text = text1\n",
        "    return hindi_text\n",
        "\n",
        "\n",
        "# Function to convert Hindi text to audio using gTTS\n",
        "def text_to_speech(hindi_text):\n",
        "    tts = gTTS(text=hindi_text, lang='hi')\n",
        "    tts.save(\"output.mp3\")\n",
        "    return \"output.mp3\"\n",
        "\n",
        "# Function to handle button click event\n",
        "def on_click(b):\n",
        "    english_text = text_input.value\n",
        "    hindi_text = translate_to_hindi(english_text)\n",
        "    audio_file = text_to_speech(hindi_text)\n",
        "    display(Audio(audio_file, autoplay=True))\n",
        "\n",
        "# Text input widget\n",
        "text_input = widgets.Text(placeholder='Enter English text')\n",
        "display(text_input)\n",
        "\n",
        "# Button widget\n",
        "button = widgets.Button(description=\"Translate\")\n",
        "button.on_click(on_click)\n",
        "display(button)\n"
      ],
      "metadata": {
        "colab": {
          "base_uri": "https://localhost:8080/",
          "height": 255,
          "referenced_widgets": [
            "6708fb7361a64c20bf4ed5531dfce814",
            "021bc286fae34fbdb6dfb15af16ecfea",
            "321bdb7a21ae455ea0d2070645dcc7ee",
            "cf94404ad9f648ed9a510a8381e5be9b",
            "f2cd93f0c81c4d638b47214c25dbf483",
            "554a8c057968409d9f2b03ed9e8cd62d"
          ]
        },
        "id": "T57imzNZTavj",
        "outputId": "765d2d30-5b79-4560-ff42-2708c6beba79"
      },
      "execution_count": 40,
      "outputs": [
        {
          "output_type": "display_data",
          "data": {
            "text/plain": [
              "Text(value='', placeholder='Enter English text')"
            ],
            "application/vnd.jupyter.widget-view+json": {
              "version_major": 2,
              "version_minor": 0,
              "model_id": "6708fb7361a64c20bf4ed5531dfce814"
            }
          },
          "metadata": {}
        },
        {
          "output_type": "display_data",
          "data": {
            "text/plain": [
              "Button(description='Translate', style=ButtonStyle())"
            ],
            "application/vnd.jupyter.widget-view+json": {
              "version_major": 2,
              "version_minor": 0,
              "model_id": "cf94404ad9f648ed9a510a8381e5be9b"
            }
          },
          "metadata": {}
        },
        {
          "output_type": "display_data",
          "data": {
            "text/plain": [
              "<IPython.lib.display.Audio object>"
            ],
            "text/html": [
              "\n",
              "                <audio  controls=\"controls\" autoplay=\"autoplay\">\n",
              "                    <source src=\"data:audio/mpeg;base64,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\" type=\"audio/mpeg\" />\n",
              "                    Your browser does not support the audio element.\n",
              "                </audio>\n",
              "              "
            ]
          },
          "metadata": {}
        },
        {
          "output_type": "display_data",
          "data": {
            "text/plain": [
              "<IPython.lib.display.Audio object>"
            ],
            "text/html": [
              "\n",
              "                <audio  controls=\"controls\" autoplay=\"autoplay\">\n",
              "                    <source src=\"data:audio/mpeg;base64,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\" type=\"audio/mpeg\" />\n",
              "                    Your browser does not support the audio element.\n",
              "                </audio>\n",
              "              "
            ]
          },
          "metadata": {}
        },
        {
          "output_type": "display_data",
          "data": {
            "text/plain": [
              "<IPython.lib.display.Audio object>"
            ],
            "text/html": [
              "\n",
              "                <audio  controls=\"controls\" autoplay=\"autoplay\">\n",
              "                    <source src=\"data:audio/mpeg;base64,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\" type=\"audio/mpeg\" />\n",
              "                    Your browser does not support the audio element.\n",
              "                </audio>\n",
              "              "
            ]
          },
          "metadata": {}
        }
      ]
    }
  ]
}